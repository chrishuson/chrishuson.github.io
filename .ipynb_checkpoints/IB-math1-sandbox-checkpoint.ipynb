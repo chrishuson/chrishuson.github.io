{
 "cells": [
  {
   "cell_type": "raw",
   "metadata": {},
   "source": [
    "---\n",
    "title: \"Jupyter Notebook Sandbox\"\n",
    "format:\n",
    "    html:\n",
    "        code-fold: true\n",
    "execute:\n",
    "    enabled: true\n",
    "jupyter: python3\n",
    "---"
   ]
  },
  {
   "cell_type": "markdown",
   "metadata": {},
   "source": [
    "# IB Math 1\n",
    "## Course scope & sequence\n",
    "\n",
    "*jupyter notebook version"
   ]
  },
  {
   "cell_type": "markdown",
   "metadata": {},
   "source": [
    "**Course scope and sequence**\n",
    "\n",
    "*Let's try some markup*\n",
    "\n",
    "3 math formulas follow:\n",
    "\n",
    "$f(x) = mx+b$ (single dollar sign)\n",
    "\n",
    "$ \\frac{1}{2} $\n",
    "\n",
    "$$g(x) = ax^2+bx+c$$ \n",
    "(double dollar sign)\n",
    "\n"
   ]
  },
  {
   "cell_type": "markdown",
   "metadata": {},
   "source": [
    "\n",
    "**Daily DRUI**\n",
    "\n",
    "Date | Topic | Guiding Question | Do Now | Task | Homework\n",
    "--|--|--|--|--|--\n",
    "6 Sep | Intro to triangles | How do we abbreviate geometric terms? | Handout | Equilateral triangle definition and applications | Triangle+algebra practice\n",
    "--|--|--|--|--|--\n",
    "7 Sep |Intro to triangles|||blank line above|\n",
    "--|--|--|--|--|--\n",
    "8 Sep |Intro to triangles|||no blank above|\n",
    "--|--|--|--|--|--\n",
    "\n",
    "continued\n",
    "\n",
    "## Markdown examples\n",
    "\n",
    "[x] this is a complete item\n",
    "\n",
    "[ ] this is an incomplete item\n",
    "\n",
    "* Item 1 (bullet)\n",
    "* Item 2\n",
    "\n",
    "[link to jupyter notebook](Python-scrap-worksheet)\n",
    "\n",
    "[link to markdown file](IB-math1-scope+sequence)"
   ]
  },
  {
   "cell_type": "code",
   "execution_count": 1,
   "metadata": {},
   "outputs": [
    {
     "data": {
      "text/plain": [
       "8"
      ]
     },
     "execution_count": 1,
     "metadata": {},
     "output_type": "execute_result"
    }
   ],
   "source": [
    "5+3"
   ]
  },
  {
   "cell_type": "markdown",
   "metadata": {},
   "source": [
    "$$\n",
    "\\underbrace{\\ln \\left( \\frac{5}{6} \\right)}_{\\simeq -0.1823}\n",
    "< \\overbrace{\\exp (2)}^{\\simeq 7.3890}\n",
    "$$"
   ]
  },
  {
   "cell_type": "markdown",
   "metadata": {},
   "source": [
    "$\\sqrt{5}$"
   ]
  },
  {
   "cell_type": "markdown",
   "metadata": {},
   "source": []
  }
 ],
 "metadata": {
  "kernelspec": {
   "display_name": "Python 3.9.12 ('base')",
   "language": "python",
   "name": "python3"
  },
  "language_info": {
   "codemirror_mode": {
    "name": "ipython",
    "version": 3
   },
   "file_extension": ".py",
   "mimetype": "text/x-python",
   "name": "python",
   "nbconvert_exporter": "python",
   "pygments_lexer": "ipython3",
   "version": "3.9.12"
  },
  "vscode": {
   "interpreter": {
    "hash": "56941cacf15e8b05765996006082865469347c2b4cdce983108d1335de8b4245"
   }
  }
 },
 "nbformat": 4,
 "nbformat_minor": 2
}
