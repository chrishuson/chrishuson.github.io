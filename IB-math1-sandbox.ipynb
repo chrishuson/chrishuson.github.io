{
 "cells": [
  {
   "cell_type": "markdown",
   "metadata": {},
   "source": [
    "# IB Math 1\n",
    "## Course scope & sequence\n",
    "\n",
    "*jupyter notebook version"
   ]
  },
  {
   "cell_type": "markdown",
   "metadata": {},
   "source": [
    "**Course scope and sequence**\n",
    "\n",
    "*Let's try some markup*\n",
    "\n",
    "3 math formulas follow:\n",
    "\n",
    "$f(x) = mx+b$ (single dollar sign)\n",
    "\n",
    "$$g(x) = ax^2+bx+c$$ (double dollar sign)\n",
    "\n",
    "$$ \\frac{1}{2} $$\n",
    "\n",
    "**Daily DRUI**\n",
    "\n",
    "Date | Topic | Guiding Question | Do Now | Task | Homework\n",
    "--|--|--|--|--|--\n",
    "6 Sep | Intro to triangles | How do we abbreviate geometric terms? | Handout | Equilateral triangle definition and applications | Triangle+algebra practice\n",
    "--|--|--|--|--|--\n",
    "7 Sep |Intro to triangles|||blank line above|\n",
    "--|--|--|--|--|--\n",
    "8 Sep |Intro to triangles|||no blank above|\n",
    "--|--|--|--|--|--\n",
    "\n",
    "continued\n",
    "\n",
    "Markdown examples\n",
    "\n",
    "[x] this is a complete item\n",
    "\n",
    "[ ] this is an incomplete item\n",
    "\n",
    "* Item 1 (bullet)\n",
    "* Item 2\n",
    "\n",
    "[link to jupyter notebook](Python-scrap-worksheet)\n",
    "\n",
    "[link to markdown file](IB-math1-scope+sequence)"
   ]
  },
  {
   "cell_type": "code",
   "execution_count": null,
   "metadata": {},
   "outputs": [],
   "source": []
  }
 ],
 "metadata": {
  "kernelspec": {
   "display_name": "Python 3",
   "language": "python",
   "name": "python3"
  },
  "language_info": {
   "codemirror_mode": {
    "name": "ipython",
    "version": 3
   },
   "file_extension": ".py",
   "mimetype": "text/x-python",
   "name": "python",
   "nbconvert_exporter": "python",
   "pygments_lexer": "ipython3",
   "version": "3.6.5"
  }
 },
 "nbformat": 4,
 "nbformat_minor": 2
}
