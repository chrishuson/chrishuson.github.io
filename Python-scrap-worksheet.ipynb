{
 "cells": [
  {
   "cell_type": "code",
   "execution_count": 16,
   "metadata": {},
   "outputs": [
    {
     "name": "stdout",
     "output_type": "stream",
     "text": [
      "35050 3.505\n"
     ]
    }
   ],
   "source": [
    "import random\n",
    "s = 0\n",
    "for i in range(10000):\n",
    "    s += random.randrange(1, 7)\n",
    "print(s, s/10000)"
   ]
  },
  {
   "cell_type": "code",
   "execution_count": 18,
   "metadata": {},
   "outputs": [
    {
     "name": "stdout",
     "output_type": "stream",
     "text": [
      "-0.999 0.0 0.0\n",
      "0.9999990000000001 999999.0 9.0\n",
      "0.999999499999875 999.999499999875 3.0\n"
     ]
    }
   ],
   "source": [
    "m1 = -1*999999/1000000 + 999 * 1/1000000\n",
    "m2 = -1*999999/1000000 + 999999 * 1/1000000\n",
    "m3 = -1*9/10 + 9 * 1/10\n",
    "print(m1, m2, m3)\n",
    "v1 = (-1 - m1)**2 * 999999/1000000 + (999 - m1)**2 * 1/1000000\n",
    "v2 = (-1 - m2)**2 * 999999/1000000 + (999999 - m2)**2 * 1/1000000\n",
    "v3 = (-1 - m3)**2 *9/10 + (9 - m3)**2  * 1/10\n",
    "print(v1, v2, v3)\n",
    "print(v1**0.5, v2**0.5, v3 **0.5)"
   ]
  },
  {
   "cell_type": "code",
   "execution_count": 3,
   "metadata": {},
   "outputs": [
    {
     "name": "stdout",
     "output_type": "stream",
     "text": [
      "0.9098360655737705\n"
     ]
    }
   ],
   "source": [
    "false_positive = (.01 * 0.999) / (.01 * 0.999 + 0.99 * 0.001)\n",
    "true_positive = 1 - false_positive\n",
    "print(false_positive)\n",
    "expected_value_of_treat_positives = "
   ]
  },
  {
   "cell_type": "code",
   "execution_count": 17,
   "metadata": {},
   "outputs": [
    {
     "name": "stdout",
     "output_type": "stream",
     "text": [
      "219.6 0.5\n"
     ]
    }
   ],
   "source": [
    "hp = 0.999 * 0.01\n",
    "hn = 0.999 * 0.99\n",
    "ip = 0.001 * 0.99\n",
    "In = 0.001 * 0.01\n",
    "Ct = 20000 *(hp + ip)\n",
    "Cnt = 50000 * In\n",
    "print(Ct, Cnt)"
   ]
  },
  {
   "cell_type": "code",
   "execution_count": 26,
   "metadata": {},
   "outputs": [
    {
     "name": "stdout",
     "output_type": "stream",
     "text": [
      "0.22855\n"
     ]
    }
   ],
   "source": [
    "k = 100000\n",
    "t = 0\n",
    "for j in range(k):\n",
    "    s = random.sample(range(52), 52)\n",
    "    v = 0\n",
    "    for i in range(51):\n",
    "        if s[i]<4 and s[i+1]<4:\n",
    "            v += 1\n",
    "    t += v\n",
    "print(t/k)"
   ]
  },
  {
   "cell_type": "code",
   "execution_count": 27,
   "metadata": {},
   "outputs": [
    {
     "data": {
      "text/plain": [
       "0.23060399999999998"
      ]
     },
     "execution_count": 27,
     "metadata": {},
     "output_type": "execute_result"
    }
   ],
   "source": [
    "(0.23139 + 0.23249 + 0.23116 + 0.22943 + 0.22855)/5"
   ]
  },
  {
   "cell_type": "code",
   "execution_count": 28,
   "metadata": {},
   "outputs": [
    {
     "data": {
      "text/plain": [
       "0.23076923076923078"
      ]
     },
     "execution_count": 28,
     "metadata": {},
     "output_type": "execute_result"
    }
   ],
   "source": [
    "3/13"
   ]
  },
  {
   "cell_type": "markdown",
   "metadata": {},
   "source": [
    "**Week 4: Shannon Entropy**\n",
    "Shannon entropy is the expected value of the Shannon information content of a random variable. \n",
    "\n",
    "$H(X) = \\Sigma p(x) \\log_2 {\\frac{1}{p(x)}}$"
   ]
  },
  {
   "cell_type": "code",
   "execution_count": 40,
   "metadata": {},
   "outputs": [
    {
     "name": "stdout",
     "output_type": "stream",
     "text": [
      "2.1374262888873504e-05 2.1374262888873504e-05 0.46899559358928133\n"
     ]
    }
   ],
   "source": [
    "import math\n",
    "h1 = 999999/1000000 * math.log(1000000/999999, 2) + 1/1000000 * math.log(1000000, 2)\n",
    "h2 = h1\n",
    "h3 = 9/10 * math.log(10/9, 2) + 1/10 * math.log(10, 2)\n",
    "print(h1, h2, h3)"
   ]
  },
  {
   "cell_type": "markdown",
   "metadata": {},
   "source": [
    "Plot the Shannon Entropy for a Bernoulli random variable as a function of *p*"
   ]
  },
  {
   "cell_type": "code",
   "execution_count": 51,
   "metadata": {},
   "outputs": [
    {
     "data": {
      "image/png": "[encoded data removed]",
      "text/plain": [
       "<matplotlib.figure.Figure at 0x113caff98>"
      ]
     },
     "metadata": {},
     "output_type": "display_data"
    }
   ],
   "source": [
    "import matplotlib\n",
    "import matplotlib.pyplot as plt\n",
    "import numpy as np\n",
    "\n",
    "# Data for plotting\n",
    "p = np.arange(0.01, 1.00, 0.01) # also p_list = np.linspace(0, 1, 100)\n",
    "h = p * np.log2(1/p) + (1-p) * np.log2(1/(1-p)) \n",
    "\n",
    "#entropy = lambda p: np.sum(p * np.log2(1 / p)) [alternative code]\n",
    "\n",
    "fig, ax = plt.subplots()\n",
    "ax.plot(p, h)\n",
    "\n",
    "#or plt.plot(p_list, [entropy(np.array([p, 1-p])) for p in p_list])\n",
    "\n",
    "ax.set(xlabel='probability (p)', ylabel='Shannon Entropy (H(p))',\n",
    "       title='Shannon Entropy for a Bernoulli random variable')\n",
    "ax.grid()\n",
    "\n",
    "#fig.savefig(\"test.png\")\n",
    "plt.show()\n"
   ]
  },
  {
   "cell_type": "code",
   "execution_count": 54,
   "metadata": {},
   "outputs": [
    {
     "data": {
      "image/png": "[encoded data removed]",
      "text/plain": [
       "<matplotlib.figure.Figure at 0x1144b0ef0>"
      ]
     },
     "metadata": {},
     "output_type": "display_data"
    }
   ],
   "source": [
    "x = np.linspace(.1,2)\n",
    "plt.figure()\n",
    "plt.plot(x, np.log(x))\n",
    "plt.plot(x, x - 1)\n",
    "plt.xlabel('x')\n",
    "plt.legend(['ln(x)', 'x - 1'], loc=4)\n",
    "plt.show()"
   ]
  },
  {
   "cell_type": "markdown",
   "metadata": {},
   "source": [
    "Exercise: Mutual information\n",
    "\n",
    "$I(X;Y) = D(p_{X,Y}\\parallel p_{X}p_{Y}) = \\Sigma _ x \\Sigma _ y p_{X, Y}(x, y) \\log _2 \\frac{p_{X, Y}(x, y)}{p_ X(x) p_ Y(y)}.$"
   ]
  },
  {
   "cell_type": "code",
   "execution_count": 59,
   "metadata": {},
   "outputs": [
    {
     "name": "stdout",
     "output_type": "stream",
     "text": [
      "[[ 0.108   0.087   0.105 ]\n",
      " [ 0.0792  0.0638  0.077 ]\n",
      " [ 0.1728  0.1392  0.168 ]]\n",
      "0.00226108299607\n"
     ]
    }
   ],
   "source": [
    "joint_prob_XY = np.array([[0.10, 0.09, 0.11], [0.08, 0.07, 0.07], [0.18, 0.13, 0.17]])\n",
    "prob_X = joint_prob_XY.sum(axis=1)\n",
    "prob_Y = joint_prob_XY.sum(axis=0)\n",
    "joint_prob_XY_indep = np.outer(prob_X, prob_Y)\n",
    "print(joint_prob_XY_indep)\n",
    "I = lambda X, Y: np.sum(X * np.log2(X/Y))\n",
    "print(I(joint_prob_XY, joint_prob_XY_indep))"
   ]
  },
  {
   "cell_type": "code",
   "execution_count": 8,
   "metadata": {},
   "outputs": [
    {
     "data": {
      "text/plain": [
       "0.49270276567601456"
      ]
     },
     "execution_count": 8,
     "metadata": {},
     "output_type": "execute_result"
    }
   ],
   "source": [
    "import math \n",
    "math.factorial(364)/math.factorial(364-22)/365**22"
   ]
  },
  {
   "cell_type": "code",
   "execution_count": 9,
   "metadata": {},
   "outputs": [
    {
     "data": {
      "text/plain": [
       "0.4995228459634194"
      ]
     },
     "execution_count": 9,
     "metadata": {},
     "output_type": "execute_result"
    }
   ],
   "source": [
    "(364/365)**253"
   ]
  },
  {
   "cell_type": "markdown",
   "metadata": {},
   "source": [
    "*Example of a table written in markdown*\n",
    "\n",
    "| This | is   |\n",
    "|------|------|\n",
    "|   a  | table|"
   ]
  },
  {
   "cell_type": "code",
   "execution_count": null,
   "metadata": {
    "collapsed": true
   },
   "outputs": [],
   "source": []
  }
 ],
 "metadata": {
  "kernelspec": {
   "display_name": "Python 3",
   "language": "python",
   "name": "python3"
  }
 },
 "nbformat": 4,
 "nbformat_minor": 2
}
