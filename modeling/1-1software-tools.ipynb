{
 "cells": [
  {
   "cell_type": "markdown",
   "metadata": {},
   "source": [
    "# Software tools for modeling & math applications course\n",
    "\n",
    "- GitHub\n",
    "- VS Code\n",
    "- Python\n",
    "- Jupyter notebooks\n",
    "\n",
    "Start by writing a short note like this in a \"markdown\" cell. \n",
    "Type shift-return to render the markdown as formatted text"
   ]
  },
  {
   "cell_type": "code",
   "execution_count": 1,
   "metadata": {},
   "outputs": [
    {
     "data": {
      "text/plain": [
       "9"
      ]
     },
     "execution_count": 1,
     "metadata": {},
     "output_type": "execute_result"
    }
   ],
   "source": [
    "# try out a little python code doing some math\n",
    "# (the hashtag makes this a comment which is ignored by Python)\n",
    "4+5 "
   ]
  },
  {
   "cell_type": "markdown",
   "metadata": {},
   "source": [
    "## Extensions\n",
    "\n",
    "VSCode is a popular software editor (an \"IDE\") used by professionals. \"Extensions\" are software packages providing additional functionality. When given the choice, have VSCode install the Python and Jupyter extensions. Extensions can be viewed by clicking the icon on the far left.\n",
    "\n",
    "Other useful extensions:\n",
    "\n",
    "- Markdown Preview Enhanced\n",
    "- markdownlint\n",
    "- LaTeX Workshop"
   ]
  },
  {
   "cell_type": "code",
   "execution_count": 2,
   "metadata": {},
   "outputs": [
    {
     "name": "stdout",
     "output_type": "stream",
     "text": [
      "hello world\n"
     ]
    }
   ],
   "source": [
    "# traditionally the first program is to say \"hello world\"\n",
    "message = \"hello world\"\n",
    "print(message)"
   ]
  }
 ],
 "metadata": {
  "kernelspec": {
   "display_name": "Python 3",
   "language": "python",
   "name": "python3"
  },
  "language_info": {
   "codemirror_mode": {
    "name": "ipython",
    "version": 3
   },
   "file_extension": ".py",
   "mimetype": "text/x-python",
   "name": "python",
   "nbconvert_exporter": "python",
   "pygments_lexer": "ipython3",
   "version": "3.11.9"
  }
 },
 "nbformat": 4,
 "nbformat_minor": 2
}
