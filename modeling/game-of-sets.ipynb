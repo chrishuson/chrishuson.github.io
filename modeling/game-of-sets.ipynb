{
 "cells": [
  {
   "cell_type": "markdown",
   "metadata": {},
   "source": [
    "# Game of Sets - largest card deck with no matches"
   ]
  },
  {
   "cell_type": "code",
   "execution_count": 2,
   "metadata": {},
   "outputs": [],
   "source": [
    "# Import libraries\n",
    "import numpy as np\n",
    "import pandas as pd\n",
    "import matplotlib.pyplot as plt\n",
    "import seaborn as sns\n"
   ]
  },
  {
   "cell_type": "code",
   "execution_count": 241,
   "metadata": {},
   "outputs": [],
   "source": [
    "# make_deck function initializes card deck df with names and attributes\n",
    "def make_deck():\n",
    "    card_names = pd.DataFrame(columns=['color', 'shape', 'fill', 'number'])\n",
    "    card_names['color'] = ['red', 'green', 'purple']\n",
    "    card_names['shape'] = ['oval', 'diamond', 'squiggle']\n",
    "    card_names['fill'] = ['solid', 'striped', 'empty']\n",
    "    card_names['number'] = [1, 2, 3]\n",
    "    return card_names"
   ]
  },
  {
   "cell_type": "code",
   "execution_count": 247,
   "metadata": {},
   "outputs": [],
   "source": [
    "# make_deck function prepopulates complete card deck df with all possible combinations  using numbers 0, 1, 2 for each of four attributes\n",
    "def make_deck():\n",
    "    card_deck = pd.DataFrame(columns=['color', 'shape', 'fill', 'number'])\n",
    "    card_deck['color'] = [0] * 27 + [1] * 27 + [2] * 27\n",
    "    card_deck['shape'] = ([0] * 9 + [1] * 9 + [2] * 9 ) * 3\n",
    "    card_deck['fill'] =  ([0] * 3 + [1] * 3 + [2] * 3 ) * 9\n",
    "    card_deck['number'] = [0, 1, 2] * 27\n",
    "    return card_deck"
   ]
  },
  {
   "cell_type": "code",
   "execution_count": 8,
   "metadata": {},
   "outputs": [],
   "source": [
    "# is_set function takes in three cards and returns True if they are a set, False otherwise\n",
    "def is_set(card1, card2, card3):\n",
    "    # check if all cards are the same card\n",
    "    if card1.equals(card2) and card2.equals(card3):\n",
    "        return False\n",
    "    # check if any two cards are the same card\n",
    "    if card1.equals(card2) or card2.equals(card3) or card1.equals(card3):\n",
    "        return False\n",
    "    # check if any two cards are not a set\n",
    "    if (card1['color'] + card2['color'] + card3['color']) % 3 != 0:\n",
    "        return False\n",
    "    if (card1['shape'] + card2['shape'] + card3['shape']) % 3 != 0:\n",
    "        return False\n",
    "    if (card1['fill'] + card2['fill'] + card3['fill']) % 3 != 0:\n",
    "        return False\n",
    "    if (card1['number'] + card2['number'] + card3['number']) % 3 != 0:\n",
    "        return False\n",
    "    # if all checks pass, return True\n",
    "    return True"
   ]
  },
  {
   "cell_type": "code",
   "execution_count": 9,
   "metadata": {},
   "outputs": [],
   "source": [
    "# trim_sets function takes in a card deck and two cards selected by their index and returns a card deck with all cards making a set with those two cards removed\n",
    "def trim_sets(card_deck, card1_index, card2_index):\n",
    "    # check that card1_index and card2_index are in range\n",
    "    if card1_index >= len(card_deck) or card2_index >= len(card_deck):\n",
    "        print('Error: card index out of range')\n",
    "        return card_deck\n",
    "    # initialize empty list to store indices of sets\n",
    "    sets = []\n",
    "    # loop through all cards in deck\n",
    "    for i in range(len(card_deck)):\n",
    "        # check if cards are a set\n",
    "        if is_set(card_deck.iloc[card1_index], card_deck.iloc[card2_index], card_deck.iloc[i]):\n",
    "            # add index of set to sets list\n",
    "            sets.append(i)\n",
    "    # drop sets from card deck\n",
    "    card_deck = card_deck.drop(sets)\n",
    "    # reset index\n",
    "    card_deck = card_deck.reset_index(drop=True)\n",
    "    # return card deck\n",
    "    return card_deck"
   ]
  },
  {
   "cell_type": "code",
   "execution_count": 271,
   "metadata": {},
   "outputs": [],
   "source": [
    "# trim_deck function takes in a card deck and uses the trim sets function to trim all sets from the deck from a random starting point.\n",
    "# iterations defaults to 100, but can be changed to trim more sets\n",
    "def trim_deck(card_deck, iterations=100):\n",
    "    for i in range(iterations):\n",
    "        # pick two random cards from the deck\n",
    "        card1_index = np.random.randint(len(card_deck))\n",
    "        card2_index = np.random.randint(len(card_deck))\n",
    "        # trim card deck of all sets with those two cards\n",
    "        card_deck = trim_sets(card_deck, card1_index, card2_index)\n",
    "    return card_deck"
   ]
  },
  {
   "cell_type": "code",
   "execution_count": 277,
   "metadata": {},
   "outputs": [],
   "source": [
    "card_deck = make_deck()"
   ]
  },
  {
   "cell_type": "code",
   "execution_count": 279,
   "metadata": {},
   "outputs": [
    {
     "name": "stdout",
     "output_type": "stream",
     "text": [
      "length before is: 15\n",
      "length after is: 15\n"
     ]
    }
   ],
   "source": [
    "print('length before is:', len(card_deck))\n",
    "card_deck = trim_deck(card_deck, 200)\n",
    "print('length after is:', len(card_deck))"
   ]
  },
  {
   "cell_type": "code",
   "execution_count": 262,
   "metadata": {},
   "outputs": [
    {
     "name": "stdout",
     "output_type": "stream",
     "text": [
      "length is: 72\n"
     ]
    }
   ],
   "source": [
    "print('length is:', len(card_deck))\n",
    "\n",
    "# pick two random cards from the deck\n",
    "card1_index = np.random.randint(len(card_deck))\n",
    "card2_index = np.random.randint(len(card_deck))\n",
    "# trim card deck of all sets with those two cards\n",
    "card_deck = trim_sets(card_deck, card1_index, card2_index)"
   ]
  },
  {
   "cell_type": "code",
   "execution_count": 238,
   "metadata": {},
   "outputs": [
    {
     "name": "stdout",
     "output_type": "stream",
     "text": [
      "starting deck size: 81\n"
     ]
    }
   ],
   "source": [
    "# Start from the first two cards and loop through trimming from there\n",
    "# Optimal set may arise from trimming from a different starting point\n",
    "\n",
    "print('starting deck size:', len(card_deck))\n",
    "# loop through card deck using all possible combinations of two cards\n",
    "for i in range(len(card_deck)):\n",
    "    # exit loop if i is greater than the current card deck length\n",
    "    if i >= len(card_deck):\n",
    "        break\n",
    "    for j in range(len(card_deck)):\n",
    "        # exit loop if j is greater than the current card deck length\n",
    "        if j >= len(card_deck):\n",
    "            break\n",
    "        # trim card deck of all sets with those two cards\n",
    "        card_deck = trim_sets(card_deck, i, j)"
   ]
  },
  {
   "cell_type": "code",
   "execution_count": 248,
   "metadata": {},
   "outputs": [
    {
     "data": {
      "text/plain": [
       "81"
      ]
     },
     "execution_count": 248,
     "metadata": {},
     "output_type": "execute_result"
    }
   ],
   "source": [
    "card_deck = make_deck()\n",
    "len(card_deck)"
   ]
  },
  {
   "cell_type": "code",
   "execution_count": 358,
   "metadata": {},
   "outputs": [
    {
     "data": {
      "text/plain": [
       "(array([  1.,   0.,   6.,  31., 168., 362., 535., 488., 401.,   8.]),\n",
       " array([ 8. ,  8.9,  9.8, 10.7, 11.6, 12.5, 13.4, 14.3, 15.2, 16.1, 17. ]),\n",
       " <BarContainer object of 10 artists>)"
      ]
     },
     "execution_count": 358,
     "metadata": {},
     "output_type": "execute_result"
    },
    {
     "data": {
      "image/png": "[encoded data removed]",
      "text/plain": [
       "<Figure size 432x288 with 1 Axes>"
      ]
     },
     "metadata": {
      "needs_background": "light"
     },
     "output_type": "display_data"
    }
   ],
   "source": [
    "# trim a bunch of full card_decks and record the final lengths and resulting deck\n",
    "trimmed_decks = []\n",
    "trimmed_deck_lengths = []\n",
    "for i in range(2000):\n",
    "    # make a new deck\n",
    "    card_deck = make_deck()\n",
    "    # trim the deck\n",
    "    card_deck = trim_deck(card_deck, 50)\n",
    "    # run again if length is more than 15, then 16\n",
    "    if len(card_deck) > 15:\n",
    "        card_deck = trim_deck(card_deck, 100)\n",
    "    if len(card_deck) > 16:\n",
    "        card_deck = trim_deck(card_deck, 1000)\n",
    "    # add the deck to the list of trimmed decks\n",
    "    trimmed_decks.append(card_deck)\n",
    "    # add the length of the deck to the list of trimmed deck lengths\n",
    "    trimmed_deck_lengths.append(len(card_deck))\n",
    "\n",
    "# plot the distribution of trimmed deck lengths\n",
    "plt.hist(trimmed_deck_lengths)"
   ]
  },
  {
   "cell_type": "code",
   "execution_count": 359,
   "metadata": {},
   "outputs": [
    {
     "data": {
      "text/plain": [
       "8       1\n",
       "10      6\n",
       "11     31\n",
       "12    168\n",
       "13    362\n",
       "14    535\n",
       "15    488\n",
       "16    401\n",
       "17      8\n",
       "dtype: int64"
      ]
     },
     "execution_count": 359,
     "metadata": {},
     "output_type": "execute_result"
    }
   ],
   "source": [
    "# count the number of times each deck length appears and sort the output\n",
    "trimmed_deck_lengths = pd.Series(trimmed_deck_lengths)\n",
    "trimmed_deck_lengths.value_counts().sort_index()\n"
   ]
  },
  {
   "cell_type": "code",
   "execution_count": 360,
   "metadata": {},
   "outputs": [
    {
     "data": {
      "text/plain": [
       "8"
      ]
     },
     "execution_count": 360,
     "metadata": {},
     "output_type": "execute_result"
    }
   ],
   "source": [
    "long_decks = []\n",
    "for i in range(len(trimmed_decks)):\n",
    "    if len(trimmed_decks[i]) > 16:\n",
    "        long_decks.append(trimmed_decks[i])\n",
    "len(long_decks)"
   ]
  },
  {
   "cell_type": "code",
   "execution_count": 361,
   "metadata": {},
   "outputs": [
    {
     "name": "stdout",
     "output_type": "stream",
     "text": [
      "17\n",
      "17\n",
      "17\n",
      "17\n",
      "17\n",
      "17\n",
      "17\n",
      "17\n"
     ]
    }
   ],
   "source": [
    "# loop through long_decks and apply trim_deck function to each deck\n",
    "for i in range(len(long_decks)):\n",
    "    long_decks[i] = trim_deck(long_decks[i], 1000)\n",
    "\n",
    "# print the length of each deck\n",
    "for i in range(len(long_decks)):\n",
    "    print(len(long_decks[i]))"
   ]
  },
  {
   "cell_type": "code",
   "execution_count": 364,
   "metadata": {},
   "outputs": [],
   "source": [
    "# loop through long_decks and save each deck to a csv file\n",
    "for i in range(len(long_decks)):\n",
    "    long_decks[i].to_csv('trimmed_deck_' + str(i) + '.csv', index=False)\n"
   ]
  },
  {
   "cell_type": "code",
   "execution_count": null,
   "metadata": {},
   "outputs": [],
   "source": [
    "# print the decks from trimmed_decks with the longest length\n",
    "for i in range(len(trimmed_decks)):\n",
    "    if len(trimmed_decks[i]) > 16:\n",
    "        print(i, trimmed_decks[i])"
   ]
  },
  {
   "cell_type": "code",
   "execution_count": null,
   "metadata": {},
   "outputs": [],
   "source": [
    "card_deck513 = trimmed_decks[513]\n",
    "card_deck964 = trimmed_decks[964]\n",
    "print(card_deck513)\n",
    "print(card_deck964)"
   ]
  },
  {
   "cell_type": "code",
   "execution_count": null,
   "metadata": {},
   "outputs": [],
   "source": [
    "trim_deck(card_deck)\n",
    "print(\"length is: \", len(card_deck))\n",
    "card_deck"
   ]
  },
  {
   "cell_type": "code",
   "execution_count": 243,
   "metadata": {},
   "outputs": [],
   "source": [
    "# trim_sets_loud function takes in a card deck and two cards selected by their index and returns a card deck with all cards making a set with those two cards removed\n",
    "def trim_sets_loud(card_deck, card1_index, card2_index):\n",
    "    # check that card1_index and card2_index are in range\n",
    "    if card1_index >= len(card_deck) or card2_index >= len(card_deck):\n",
    "        print('Error: card index out of range')\n",
    "        return card_deck\n",
    "    # initialize empty list to store indices of sets\n",
    "    sets = []\n",
    "    # loop through all cards in deck\n",
    "    for i in range(len(card_deck)):\n",
    "        # check if cards are a set\n",
    "        if is_set(card_deck.iloc[card1_index], card_deck.iloc[card2_index], card_deck.iloc[i]):\n",
    "            # add index of set to sets list\n",
    "            sets.append(i)\n",
    "    # drop sets from card deck\n",
    "    print(card_deck.iloc[sets])\n",
    "    card_deck = card_deck.drop(sets)\n",
    "    # reset index\n",
    "    card_deck = card_deck.reset_index(drop=True)\n",
    "    # return card deck\n",
    "    return card_deck"
   ]
  },
  {
   "cell_type": "code",
   "execution_count": 351,
   "metadata": {},
   "outputs": [
    {
     "name": "stdout",
     "output_type": "stream",
     "text": [
      "   color  shape  fill  number\n",
      "3      0      2     1       2\n",
      "0      0      1     0       0\n",
      "Empty DataFrame\n",
      "Columns: [color, shape, fill, number]\n",
      "Index: []\n",
      "ending deck size: 17\n"
     ]
    }
   ],
   "source": [
    "card_deck = card_deck513\n",
    "# manually trim once from one random pair of cards \n",
    "# pick two random cards from the deck\n",
    "card1_index = np.random.randint(len(card_deck))\n",
    "card2_index = np.random.randint(len(card_deck))\n",
    "\n",
    "print(card_deck.iloc[[card1_index, card2_index]])\n",
    "# trim card deck of all sets with those two cards\n",
    "card_deck = trim_sets_loud(card_deck, card1_index, card2_index)\n",
    "\n",
    "print('ending deck size:', len(card_deck))"
   ]
  },
  {
   "cell_type": "code",
   "execution_count": null,
   "metadata": {},
   "outputs": [],
   "source": [
    "print(trim_deck(card_deck, 1000))\n",
    "print(len(card_deck))"
   ]
  },
  {
   "cell_type": "code",
   "execution_count": 354,
   "metadata": {},
   "outputs": [],
   "source": [
    "# save the trimmed deck to a csv file\n",
    "card_deck513.to_csv('trimmed_deck513.csv', index=False)\n",
    "card_deck964.to_csv('trimmed_deck964.csv', index=False)"
   ]
  }
 ],
 "metadata": {
  "kernelspec": {
   "display_name": "Python 3",
   "language": "python",
   "name": "python3"
  },
  "language_info": {
   "codemirror_mode": {
    "name": "ipython",
    "version": 3
   },
   "file_extension": ".py",
   "mimetype": "text/x-python",
   "name": "python",
   "nbconvert_exporter": "python",
   "pygments_lexer": "ipython3",
   "version": "3.9.12"
  }
 },
 "nbformat": 4,
 "nbformat_minor": 2
}
