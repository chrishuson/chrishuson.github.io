{
 "cells": [
  {
   "cell_type": "markdown",
   "metadata": {},
   "source": [
    "# Game of Sets - largest card deck with no matches"
   ]
  },
  {
   "cell_type": "code",
   "execution_count": 1,
   "metadata": {},
   "outputs": [],
   "source": [
    "# Import libraries\n",
    "import numpy as np\n",
    "import pandas as pd\n",
    "import matplotlib.pyplot as plt\n",
    "import seaborn as sns\n",
    "import csv\n",
    "import pickle\n",
    "\n"
   ]
  },
  {
   "cell_type": "markdown",
   "metadata": {},
   "source": [
    "## Function definitions\n",
    "- make_card_names\n",
    "- make_full_deck\n",
    "- make_third_card\n",
    "\n",
    "Functions to trim down from a full deck to a deck with no matches\n",
    "- trim_deck_fast\n",
    "\n",
    "Function to build up a deck with no matches\n",
    "- make_deck_of_matches (a complementary deck)\n",
    "- find_unused_cards"
   ]
  },
  {
   "cell_type": "code",
   "execution_count": 2,
   "metadata": {},
   "outputs": [],
   "source": [
    "# make_card_names function initializes card_names df with names and attributes\n",
    "def make_card_names():\n",
    "    card_names = pd.DataFrame(columns=['color', 'shape', 'fill', 'number'])\n",
    "    card_names['color'] = ['red', 'green', 'purple']\n",
    "    card_names['shape'] = ['oval', 'diamond', 'squiggle']\n",
    "    card_names['fill'] = ['solid', 'striped', 'empty']\n",
    "    card_names['number'] = [1, 2, 3]\n",
    "    return card_names\n",
    "\n",
    "# make_full_deck function prepopulates complete card_deck df with all possible combinations using numbers 0, 1, 2 for each of four attributes (n=81)\n",
    "def make_full_deck():\n",
    "    card_deck = pd.DataFrame(columns=['color', 'shape', 'fill', 'number'])\n",
    "    card_deck['color'] = [0] * 27 + [1] * 27 + [2] * 27\n",
    "    card_deck['shape'] = ([0] * 9 + [1] * 9 + [2] * 9 ) * 3\n",
    "    card_deck['fill'] =  ([0] * 3 + [1] * 3 + [2] * 3 ) * 9\n",
    "    card_deck['number'] = [0, 1, 2] * 27\n",
    "    return card_deck\n",
    "\n",
    "# make_third_card function creates third card to make a set\n",
    "def make_third_card(card1, card2):\n",
    "    # Calculate the sum of corresponding elements in card1 and card2, then take the result mod 3\n",
    "    sum_mod_3 = (card1.values[0] + card2.values[0]) % 3\n",
    "\n",
    "    # Calculate the third integer 'c' based on the formula: c = 3 - (a + b) mod 3\n",
    "    c_values = 3 - sum_mod_3\n",
    "    c_values[c_values == 3] = 0  # Replace 3 with 0, as 3 mod 3 is 0\n",
    "\n",
    "    # return the resulting dataframe card3\n",
    "    return pd.DataFrame([c_values], columns=card1.columns)"
   ]
  },
  {
   "cell_type": "code",
   "execution_count": 3,
   "metadata": {},
   "outputs": [
    {
     "data": {
      "text/plain": [
       "81"
      ]
     },
     "execution_count": 3,
     "metadata": {},
     "output_type": "execute_result"
    }
   ],
   "source": [
    "# initialize a full card deck and confirm its length is 81 cards using make_full_deck function\n",
    "card_deck = make_full_deck()\n",
    "len(card_deck)"
   ]
  },
  {
   "cell_type": "code",
   "execution_count": 72,
   "metadata": {},
   "outputs": [],
   "source": [
    "# find_unused_cards function with input of card_deck that finds unused cards\n",
    "# return deck of all cards that match any pair in the input deck, and deck of cards not used\n",
    "def find_unused_cards(card_deck, verbose=False):\n",
    "    \"\"\"\n",
    "    This function finds unused cards in a given deck.\n",
    "\n",
    "    Parameters:\n",
    "    card_deck (pd.DataFrame): The input deck of cards. Each row represents a card.\n",
    "    verbose (bool, optional): If True, the function prints lengths of decks. Default is False.\n",
    "\n",
    "    Returns:\n",
    "    match_deck (pd.DataFrame): A deck of all cards that match any pair in the input deck.\n",
    "    unused_cards (pd.DataFrame): A deck of cards that are not used in either the input deck or the match deck.\n",
    "\n",
    "    The function first checks for duplicate rows in the input deck. If any are found, it prints them out.\n",
    "    It then creates a match deck, which is a deck of all cards that match any pair in the input deck.\n",
    "    The function then combines the input deck and the match deck, checks for duplicates, and removes them if any are found.\n",
    "    Finally, the function finds and returns the unused cards, which are the cards that are not in either the input deck or the match deck.\n",
    "    If verbose is True, the function also prints out the lengths of the input deck, match deck, combined deck, and unused cards.\n",
    "    \"\"\"\n",
    "    if card_deck.duplicated().any():\n",
    "        print(\"Duplicate rows in trimmed_deck:\")\n",
    "        print(card_deck[card_deck.duplicated()])\n",
    "\n",
    "    match_deck = make_deck_of_matches(card_deck).drop_duplicates()\n",
    "\n",
    "    combined_deck = pd.concat([card_deck, match_deck]).reset_index(drop=True)\n",
    "    if combined_deck.duplicated().any():\n",
    "        print(\"Input card_deck has matches:\")\n",
    "        print(combined_deck[combined_deck.duplicated()])\n",
    "        combined_deck.drop_duplicates(inplace=True)\n",
    "        combined_deck.reset_index(drop=True, inplace=True)\n",
    "\n",
    "    # find cards not used in card_deck or match_deck\n",
    "    full_deck = make_full_deck()\n",
    "    unused_cards = full_deck[~full_deck.apply(tuple, axis=1).isin(combined_deck.apply(tuple, axis=1))]\n",
    "\n",
    "    if verbose:\n",
    "        print(\"Length of input card_deck: \", len(card_deck))\n",
    "        print(\"Length of match_deck: \", len(match_deck))\n",
    "        print(\"Length of combined_deck: \", len(combined_deck))\n",
    "        print(\"Length of unused_cards: \", len(unused_cards))\n",
    "    return match_deck, unused_cards"
   ]
  },
  {
   "cell_type": "code",
   "execution_count": 6,
   "metadata": {},
   "outputs": [],
   "source": [
    "# trim_deck_fast function selects two random cards, finds the third card that would make a set and drops it from the card_deck if it is present.\n",
    "# Note that not all matching sets are necessarily removed. Search is random and not exhaustive.\n",
    "def trim_deck_fast(card_deck, iterations=100):\n",
    "    for i in range(iterations):\n",
    "        card1 = card_deck.sample(n=1)\n",
    "        card2 = card_deck.sample(n=1)\n",
    "        # make sure card1 and card2 are not the same card\n",
    "        while card1.equals(card2):\n",
    "            card2 = card_deck.sample()\n",
    "        card3 = make_third_card(card1, card2)\n",
    "        # print('three cards {} {} {}'.format(card1, card2, card3))\n",
    "        try: \n",
    "            i = card_deck[card_deck.eq(card3.squeeze()).all(1)].index\n",
    "            # if i is not empty, remove the card from the deck\n",
    "            if i.empty:\n",
    "                pass\n",
    "                # print('No set found. Continuing...')\n",
    "            else:\n",
    "                # print('Found a set! Removing cards {} {}'.format(i, card_deck.loc[i]))\n",
    "                card_deck = card_deck.drop(i)\n",
    "        except KeyError:\n",
    "            pass\n",
    "    return card_deck"
   ]
  },
  {
   "cell_type": "code",
   "execution_count": null,
   "metadata": {},
   "outputs": [],
   "source": [
    "# test or run trim_deck_fast function\n",
    "print(len(card_deck))\n",
    "card_deck = trim_deck_fast(card_deck, iterations=1000)\n",
    "len(card_deck)"
   ]
  },
  {
   "cell_type": "code",
   "execution_count": 22,
   "metadata": {},
   "outputs": [
    {
     "data": {
      "text/html": [
       "<div>\n",
       "<style scoped>\n",
       "    .dataframe tbody tr th:only-of-type {\n",
       "        vertical-align: middle;\n",
       "    }\n",
       "\n",
       "    .dataframe tbody tr th {\n",
       "        vertical-align: top;\n",
       "    }\n",
       "\n",
       "    .dataframe thead th {\n",
       "        text-align: right;\n",
       "    }\n",
       "</style>\n",
       "<table border=\"1\" class=\"dataframe\">\n",
       "  <thead>\n",
       "    <tr style=\"text-align: right;\">\n",
       "      <th></th>\n",
       "      <th>color</th>\n",
       "      <th>shape</th>\n",
       "      <th>fill</th>\n",
       "      <th>number</th>\n",
       "    </tr>\n",
       "  </thead>\n",
       "  <tbody>\n",
       "    <tr>\n",
       "      <th>0</th>\n",
       "      <td>0</td>\n",
       "      <td>0</td>\n",
       "      <td>0</td>\n",
       "      <td>0</td>\n",
       "    </tr>\n",
       "    <tr>\n",
       "      <th>4</th>\n",
       "      <td>0</td>\n",
       "      <td>0</td>\n",
       "      <td>1</td>\n",
       "      <td>1</td>\n",
       "    </tr>\n",
       "    <tr>\n",
       "      <th>6</th>\n",
       "      <td>0</td>\n",
       "      <td>0</td>\n",
       "      <td>2</td>\n",
       "      <td>0</td>\n",
       "    </tr>\n",
       "    <tr>\n",
       "      <th>10</th>\n",
       "      <td>0</td>\n",
       "      <td>1</td>\n",
       "      <td>0</td>\n",
       "      <td>1</td>\n",
       "    </tr>\n",
       "    <tr>\n",
       "      <th>11</th>\n",
       "      <td>0</td>\n",
       "      <td>1</td>\n",
       "      <td>0</td>\n",
       "      <td>2</td>\n",
       "    </tr>\n",
       "    <tr>\n",
       "      <th>20</th>\n",
       "      <td>0</td>\n",
       "      <td>2</td>\n",
       "      <td>0</td>\n",
       "      <td>2</td>\n",
       "    </tr>\n",
       "    <tr>\n",
       "      <th>22</th>\n",
       "      <td>0</td>\n",
       "      <td>2</td>\n",
       "      <td>1</td>\n",
       "      <td>1</td>\n",
       "    </tr>\n",
       "    <tr>\n",
       "      <th>34</th>\n",
       "      <td>1</td>\n",
       "      <td>0</td>\n",
       "      <td>2</td>\n",
       "      <td>1</td>\n",
       "    </tr>\n",
       "  </tbody>\n",
       "</table>\n",
       "</div>"
      ],
      "text/plain": [
       "    color  shape  fill  number\n",
       "0       0      0     0       0\n",
       "4       0      0     1       1\n",
       "6       0      0     2       0\n",
       "10      0      1     0       1\n",
       "11      0      1     0       2\n",
       "20      0      2     0       2\n",
       "22      0      2     1       1\n",
       "34      1      0     2       1"
      ]
     },
     "execution_count": 22,
     "metadata": {},
     "output_type": "execute_result"
    }
   ],
   "source": [
    "test_deck = card_deck.iloc[[0, 4, 6, 10, 11, 20, 22, 34]]\n",
    "print(test_deck)\n",
    "\n",
    "#test_deck_of_matches = make_deck_of_matches(test_deck)"
   ]
  },
  {
   "cell_type": "code",
   "execution_count": 23,
   "metadata": {},
   "outputs": [],
   "source": [
    "# make_deck_of_matches function takes a card_deck and returns a deck of all cards that match any pair in the input deck\n",
    "\n",
    "def make_deck_of_matches(card_deck):\n",
    "    card_deck_of_matches = pd.DataFrame(columns=['color', 'shape', 'fill', 'number'])\n",
    "    for i, (index1, _) in enumerate(card_deck.iterrows()):\n",
    "        card1 = card_deck.loc[[index1]]\n",
    "        for index2 in list(card_deck.index)[i+1:]:\n",
    "            card2 = card_deck.loc[[index2]]\n",
    "            card3 = make_third_card(card1, card2)\n",
    "            # print(i, index1, card1, \"\\n\")\n",
    "            # print(\"index2 = \", index2, \"\\n card2 = \", card2, \"\\n\")\n",
    "            # print(card3)\n",
    "            # card_deck_of_matches = card_deck_of_matches.append(card3) # this is slow\n",
    "            card_deck_of_matches = pd.concat([card_deck_of_matches, card3], ignore_index=True)\n",
    "    card_deck_of_matches.drop_duplicates(inplace=True)\n",
    "    card_deck_of_matches.reset_index(drop=True, inplace=True)\n",
    "    return card_deck_of_matches"
   ]
  },
  {
   "cell_type": "markdown",
   "metadata": {},
   "source": [
    "## Legacy functions"
   ]
  },
  {
   "cell_type": "code",
   "execution_count": 8,
   "metadata": {},
   "outputs": [],
   "source": [
    "# LEGACY is_set function takes in three cards and returns True if they are a set, False otherwise\n",
    "def is_set(card1, card2, card3):\n",
    "    # check if all cards are the same card\n",
    "    if card1.equals(card2) and card2.equals(card3):\n",
    "        return False\n",
    "    # check if any two cards are the same card\n",
    "    if card1.equals(card2) or card2.equals(card3) or card1.equals(card3):\n",
    "        return False\n",
    "    # check if any two cards are not a set\n",
    "    if (card1['color'] + card2['color'] + card3['color']) % 3 != 0:\n",
    "        return False\n",
    "    if (card1['shape'] + card2['shape'] + card3['shape']) % 3 != 0:\n",
    "        return False\n",
    "    if (card1['fill'] + card2['fill'] + card3['fill']) % 3 != 0:\n",
    "        return False\n",
    "    if (card1['number'] + card2['number'] + card3['number']) % 3 != 0:\n",
    "        return False\n",
    "    # if all checks pass, return True\n",
    "    return True"
   ]
  },
  {
   "cell_type": "code",
   "execution_count": 9,
   "metadata": {},
   "outputs": [],
   "source": [
    "# LEGACY trim_sets function takes in a card deck and two cards selected by their index and returns a card deck with all cards making a set with those two cards removed\n",
    "def trim_sets(card_deck, card1_index, card2_index):\n",
    "    # check that card1_index and card2_index are in range\n",
    "    if card1_index >= len(card_deck) or card2_index >= len(card_deck):\n",
    "        print('Error: card index out of range')\n",
    "        return card_deck\n",
    "    # initialize empty list to store indices of sets\n",
    "    sets = []\n",
    "    # loop through all cards in deck\n",
    "    for i in range(len(card_deck)):\n",
    "        # check if cards are a set\n",
    "        if is_set(card_deck.iloc[card1_index], card_deck.iloc[card2_index], card_deck.iloc[i]):\n",
    "            # add index of set to sets list\n",
    "            sets.append(i)\n",
    "    # drop sets from card deck\n",
    "    card_deck = card_deck.drop(sets)\n",
    "    # reset index\n",
    "    card_deck = card_deck.reset_index(drop=True)\n",
    "    # return card deck\n",
    "    return card_deck"
   ]
  },
  {
   "cell_type": "code",
   "execution_count": 271,
   "metadata": {},
   "outputs": [],
   "source": [
    "# LEGACY trim_deck function takes in a card deck and uses the trim sets function to trim sets from the deck from a random starting point. Matching sets are *not* exhaustively removed.\n",
    "# iterations defaults to 100, but can be changed to trim more sets\n",
    "def trim_deck(card_deck, iterations=100):\n",
    "    for i in range(iterations):\n",
    "        # pick two random cards from the deck\n",
    "        card1_index = np.random.randint(len(card_deck))\n",
    "        card2_index = np.random.randint(len(card_deck))\n",
    "        # trim card deck of all sets with those two cards\n",
    "        card_deck = trim_sets(card_deck, card1_index, card2_index)\n",
    "    return card_deck"
   ]
  },
  {
   "cell_type": "markdown",
   "metadata": {
    "tags": [
     "trimming section"
    ]
   },
   "source": [
    "## Cells to trim a full deck to a deck with no matches\n",
    "\n",
    "1. First search for decks with no matches by trimming a full deck of 81 cards. \n",
    "1. Confirm that the trimmed deck doesn't contain any matches.\n",
    "1. Write decks to csv files."
   ]
  },
  {
   "cell_type": "code",
   "execution_count": 208,
   "metadata": {},
   "outputs": [
    {
     "data": {
      "text/plain": [
       "(array([7.000e+00, 8.700e+01, 3.510e+02, 1.035e+03, 2.127e+03, 2.987e+03,\n",
       "        2.952e+03, 4.250e+02, 2.800e+01, 1.000e+00]),\n",
       " array([ 9. ,  9.9, 10.8, 11.7, 12.6, 13.5, 14.4, 15.3, 16.2, 17.1, 18. ]),\n",
       " <BarContainer object of 10 artists>)"
      ]
     },
     "execution_count": 208,
     "metadata": {},
     "output_type": "execute_result"
    },
    {
     "data": {
      "image/png": "[encoded data removed]",
      "text/plain": [
       "<Figure size 432x288 with 1 Axes>"
      ]
     },
     "metadata": {
      "needs_background": "light"
     },
     "output_type": "display_data"
    }
   ],
   "source": [
    "# trim a bunch of full card_decks and record the final lengths and resulting deck\n",
    "trimmed_decks = []\n",
    "trimmed_deck_lengths = []\n",
    "for i in range(10000):\n",
    "    # make a new deck\n",
    "    card_deck = make_full_deck()\n",
    "    # trim the deck\n",
    "    card_deck = trim_deck_fast(card_deck, 200)\n",
    "    # run again if length is more than 15, then 16\n",
    "    if len(card_deck) > 15:\n",
    "        card_deck = trim_deck_fast(card_deck, 1000)\n",
    "    if len(card_deck) > 16:\n",
    "        card_deck = trim_deck_fast(card_deck, 5000)\n",
    "    # add the deck to the list of trimmed decks\n",
    "    trimmed_decks.append(card_deck)\n",
    "    # add the length of the deck to the list of trimmed deck lengths\n",
    "    trimmed_deck_lengths.append(len(card_deck))\n",
    "\n",
    "# plot the distribution of trimmed deck lengths\n",
    "plt.hist(trimmed_deck_lengths)"
   ]
  },
  {
   "cell_type": "code",
   "execution_count": null,
   "metadata": {},
   "outputs": [],
   "source": [
    "# count the number of times each deck length appears and sort the output\n",
    "trimmed_deck_lengths = pd.Series(trimmed_deck_lengths)\n",
    "trimmed_deck_lengths.value_counts().sort_index()\n"
   ]
  },
  {
   "cell_type": "code",
   "execution_count": 210,
   "metadata": {},
   "outputs": [
    {
     "data": {
      "text/plain": [
       "29"
      ]
     },
     "execution_count": 210,
     "metadata": {},
     "output_type": "execute_result"
    }
   ],
   "source": [
    "long_decks = []\n",
    "for i in range(len(trimmed_decks)):\n",
    "    if len(trimmed_decks[i]) > 16:\n",
    "        long_decks.append(trimmed_decks[i])\n",
    "len(long_decks)"
   ]
  },
  {
   "cell_type": "code",
   "execution_count": null,
   "metadata": {},
   "outputs": [],
   "source": [
    "# loop through long_decks and apply trim_deck function to each deck\n",
    "for i in range(len(long_decks)):\n",
    "    long_decks[i] = trim_deck_fast(long_decks[i], 5000)\n",
    "\n",
    "# print the length of each deck\n",
    "for i in range(len(long_decks)):\n",
    "    print(len(long_decks[i]))"
   ]
  },
  {
   "cell_type": "code",
   "execution_count": 214,
   "metadata": {},
   "outputs": [],
   "source": [
    "# loop through long_decks and save each deck to a csv file\n",
    "for i in range(len(long_decks)):\n",
    "    long_decks[i].to_csv('trimmed_deck_b' + str(i) + '.csv', index=True)\n"
   ]
  },
  {
   "cell_type": "code",
   "execution_count": null,
   "metadata": {},
   "outputs": [],
   "source": [
    "# print the decks from trimmed_decks with the longest length\n",
    "for i in range(len(trimmed_decks)):\n",
    "    if len(trimmed_decks[i]) > 16:\n",
    "        print(i, trimmed_decks[i])"
   ]
  },
  {
   "cell_type": "markdown",
   "metadata": {},
   "source": [
    "## Make larger decks from trimmed_deck starting places\n",
    "\n",
    "Resulted in 13 decks with 18 cards each."
   ]
  },
  {
   "cell_type": "code",
   "execution_count": null,
   "metadata": {},
   "outputs": [],
   "source": [
    "# Import a saved trimmed deck\n",
    "trimmed_deck = pd.read_csv('trimmed_deck964.csv', index_col=False)\n",
    "trimmed_deck = trimmed_deck.reset_index(drop=True)\n",
    "print(\"length = \", len(trimmed_deck))\n",
    "print(\"duplicate rows: \", trimmed_deck[trimmed_deck.duplicated()])\n",
    "trimmed_deck\n"
   ]
  },
  {
   "cell_type": "code",
   "execution_count": 46,
   "metadata": {},
   "outputs": [
    {
     "name": "stdout",
     "output_type": "stream",
     "text": [
      "Length of input card_deck:  17\n",
      "Length of match_deck:  63\n",
      "Length of combined_deck:  80\n",
      "Length of unused_cards:  1\n"
     ]
    },
    {
     "data": {
      "text/html": [
       "<div>\n",
       "<style scoped>\n",
       "    .dataframe tbody tr th:only-of-type {\n",
       "        vertical-align: middle;\n",
       "    }\n",
       "\n",
       "    .dataframe tbody tr th {\n",
       "        vertical-align: top;\n",
       "    }\n",
       "\n",
       "    .dataframe thead th {\n",
       "        text-align: right;\n",
       "    }\n",
       "</style>\n",
       "<table border=\"1\" class=\"dataframe\">\n",
       "  <thead>\n",
       "    <tr style=\"text-align: right;\">\n",
       "      <th></th>\n",
       "      <th>color</th>\n",
       "      <th>shape</th>\n",
       "      <th>fill</th>\n",
       "      <th>number</th>\n",
       "    </tr>\n",
       "  </thead>\n",
       "  <tbody>\n",
       "    <tr>\n",
       "      <th>23</th>\n",
       "      <td>0</td>\n",
       "      <td>2</td>\n",
       "      <td>1</td>\n",
       "      <td>2</td>\n",
       "    </tr>\n",
       "  </tbody>\n",
       "</table>\n",
       "</div>"
      ],
      "text/plain": [
       "    color  shape  fill  number\n",
       "23      0      2     1       2"
      ]
     },
     "execution_count": 46,
     "metadata": {},
     "output_type": "execute_result"
    }
   ],
   "source": [
    "match_deck, unused_cards = find_unused_cards(trimmed_deck)\n",
    "unused_cards"
   ]
  },
  {
   "cell_type": "code",
   "execution_count": 47,
   "metadata": {},
   "outputs": [
    {
     "name": "stdout",
     "output_type": "stream",
     "text": [
      "Length of bigger_deck:  18\n"
     ]
    },
    {
     "data": {
      "text/html": [
       "<div>\n",
       "<style scoped>\n",
       "    .dataframe tbody tr th:only-of-type {\n",
       "        vertical-align: middle;\n",
       "    }\n",
       "\n",
       "    .dataframe tbody tr th {\n",
       "        vertical-align: top;\n",
       "    }\n",
       "\n",
       "    .dataframe thead th {\n",
       "        text-align: right;\n",
       "    }\n",
       "</style>\n",
       "<table border=\"1\" class=\"dataframe\">\n",
       "  <thead>\n",
       "    <tr style=\"text-align: right;\">\n",
       "      <th></th>\n",
       "      <th>color</th>\n",
       "      <th>shape</th>\n",
       "      <th>fill</th>\n",
       "      <th>number</th>\n",
       "    </tr>\n",
       "  </thead>\n",
       "  <tbody>\n",
       "    <tr>\n",
       "      <th>0</th>\n",
       "      <td>0</td>\n",
       "      <td>0</td>\n",
       "      <td>2</td>\n",
       "      <td>1</td>\n",
       "    </tr>\n",
       "    <tr>\n",
       "      <th>1</th>\n",
       "      <td>0</td>\n",
       "      <td>1</td>\n",
       "      <td>0</td>\n",
       "      <td>2</td>\n",
       "    </tr>\n",
       "    <tr>\n",
       "      <th>2</th>\n",
       "      <td>0</td>\n",
       "      <td>1</td>\n",
       "      <td>1</td>\n",
       "      <td>1</td>\n",
       "    </tr>\n",
       "    <tr>\n",
       "      <th>3</th>\n",
       "      <td>0</td>\n",
       "      <td>1</td>\n",
       "      <td>1</td>\n",
       "      <td>2</td>\n",
       "    </tr>\n",
       "    <tr>\n",
       "      <th>4</th>\n",
       "      <td>0</td>\n",
       "      <td>2</td>\n",
       "      <td>2</td>\n",
       "      <td>1</td>\n",
       "    </tr>\n",
       "  </tbody>\n",
       "</table>\n",
       "</div>"
      ],
      "text/plain": [
       "   color  shape  fill  number\n",
       "0      0      0     2       1\n",
       "1      0      1     0       2\n",
       "2      0      1     1       1\n",
       "3      0      1     1       2\n",
       "4      0      2     2       1"
      ]
     },
     "execution_count": 47,
     "metadata": {},
     "output_type": "execute_result"
    }
   ],
   "source": [
    "bigger_deck = pd.concat([trimmed_deck, unused_cards]).reset_index(drop=True)\n",
    "print(\"Length of bigger_deck: \", len(bigger_deck))\n",
    "bigger_deck.head()"
   ]
  },
  {
   "cell_type": "code",
   "execution_count": 48,
   "metadata": {},
   "outputs": [
    {
     "name": "stdout",
     "output_type": "stream",
     "text": [
      "Length of input card_deck:  18\n",
      "Length of match_deck:  63\n",
      "Length of combined_deck:  81\n",
      "Length of unused_cards:  0\n"
     ]
    },
    {
     "data": {
      "text/html": [
       "<div>\n",
       "<style scoped>\n",
       "    .dataframe tbody tr th:only-of-type {\n",
       "        vertical-align: middle;\n",
       "    }\n",
       "\n",
       "    .dataframe tbody tr th {\n",
       "        vertical-align: top;\n",
       "    }\n",
       "\n",
       "    .dataframe thead th {\n",
       "        text-align: right;\n",
       "    }\n",
       "</style>\n",
       "<table border=\"1\" class=\"dataframe\">\n",
       "  <thead>\n",
       "    <tr style=\"text-align: right;\">\n",
       "      <th></th>\n",
       "      <th>color</th>\n",
       "      <th>shape</th>\n",
       "      <th>fill</th>\n",
       "      <th>number</th>\n",
       "    </tr>\n",
       "  </thead>\n",
       "  <tbody>\n",
       "  </tbody>\n",
       "</table>\n",
       "</div>"
      ],
      "text/plain": [
       "Empty DataFrame\n",
       "Columns: [color, shape, fill, number]\n",
       "Index: []"
      ]
     },
     "execution_count": 48,
     "metadata": {},
     "output_type": "execute_result"
    }
   ],
   "source": [
    "match_deck, unused_cards = find_unused_cards(bigger_deck)\n",
    "unused_cards"
   ]
  },
  {
   "cell_type": "code",
   "execution_count": null,
   "metadata": {},
   "outputs": [],
   "source": [
    "print(len(trimmed_decks), len(trimmed_deck_lengths))\n",
    "print(trimmed_deck_lengths)"
   ]
  },
  {
   "cell_type": "code",
   "execution_count": null,
   "metadata": {},
   "outputs": [],
   "source": [
    "# check each deck in trimmed_decks for duplicate rows\n",
    "for i in range(len(trimmed_decks)):\n",
    "    print(i, trimmed_decks[i][trimmed_decks[i].duplicated()])"
   ]
  },
  {
   "cell_type": "code",
   "execution_count": 56,
   "metadata": {},
   "outputs": [
    {
     "name": "stdout",
     "output_type": "stream",
     "text": [
      "13 [17, 17, 17, 17, 17, 17, 17, 17, 17, 17, 17, 17, 17] [3, 2, 2, 1, 1, 2, 1, 2, 1, 1, 1, 2, 1]\n"
     ]
    }
   ],
   "source": [
    "# put decks with unused cards into unused_decks list\n",
    "decks_to_grow = []\n",
    "decks_to_growth_lengths = []\n",
    "decks_to_grow_unused_cards_lengths = []\n",
    "\n",
    "for i in range(len(trimmed_decks)):\n",
    "    match_deck, unused_cards = find_unused_cards(trimmed_decks[i])\n",
    "    if len(unused_cards) > 0:\n",
    "        decks_to_grow.append(trimmed_decks[i])\n",
    "        decks_to_growth_lengths.append(len(trimmed_decks[i]))\n",
    "        decks_to_grow_unused_cards_lengths.append(len(unused_cards))\n",
    "    \n",
    "print(len(decks_to_grow), decks_to_growth_lengths, decks_to_grow_unused_cards_lengths)"
   ]
  },
  {
   "cell_type": "code",
   "execution_count": 57,
   "metadata": {},
   "outputs": [],
   "source": [
    "bigger_decks = decks_to_grow.copy()"
   ]
  },
  {
   "cell_type": "code",
   "execution_count": 64,
   "metadata": {},
   "outputs": [
    {
     "name": "stdout",
     "output_type": "stream",
     "text": [
      "18 0\n",
      "18 0\n",
      "18 0\n",
      "18 0\n",
      "18 0\n",
      "18 0\n",
      "18 0\n",
      "18 0\n",
      "18 0\n",
      "18 0\n",
      "18 0\n",
      "18 0\n",
      "18 0\n",
      "13\n"
     ]
    }
   ],
   "source": [
    "# to each deck in bigger_decks, add one of the unused cards\n",
    "for i in range(len(bigger_decks)):\n",
    "    match_deck, unused_cards = find_unused_cards(bigger_decks[i])\n",
    "    print(len(bigger_decks[i]), len(unused_cards))\n",
    "    if len(unused_cards) > 0:\n",
    "        bigger_decks[i] = pd.concat([bigger_decks[i], unused_cards.sample(n=1)]).reset_index(drop=True)\n",
    "    \n",
    "print(len(decks_to_grow))"
   ]
  },
  {
   "cell_type": "code",
   "execution_count": 67,
   "metadata": {},
   "outputs": [
    {
     "name": "stdout",
     "output_type": "stream",
     "text": [
      "18\n",
      "18\n",
      "18\n",
      "18\n",
      "18\n",
      "18\n",
      "18\n",
      "18\n",
      "18\n",
      "18\n",
      "18\n",
      "18\n",
      "18\n"
     ]
    }
   ],
   "source": [
    "for i in range(len(bigger_decks)):\n",
    "    print(len(bigger_decks[i]))"
   ]
  },
  {
   "cell_type": "markdown",
   "metadata": {},
   "source": [
    "## Saving and loading decks to files"
   ]
  },
  {
   "cell_type": "code",
   "execution_count": 112,
   "metadata": {},
   "outputs": [],
   "source": [
    "# save decks to csv files\n",
    "decks_length_18plus[0].to_csv('deck_length_20.csv', index=False)"
   ]
  },
  {
   "cell_type": "code",
   "execution_count": 49,
   "metadata": {},
   "outputs": [],
   "source": [
    "# import csv files into trimmed_decks list LEGACY\n",
    "import glob\n",
    "\n",
    "trimmed_decks = []\n",
    "trimmed_deck_lengths = []\n",
    "\n",
    "# Get a list of all CSV files in the current directory that start with 'trimmed_deck_'\n",
    "csv_files = glob.glob('trimmed_deck_*.csv')\n",
    "\n",
    "# Loop through the list of CSV files\n",
    "for file in csv_files:\n",
    "    # Read the CSV file into a DataFrame\n",
    "    trimmed_deck = pd.read_csv(file, usecols=['color', 'shape', 'fill', 'number'])\n",
    "    trimmed_deck = trimmed_deck.reset_index(drop=True)\n",
    "    \n",
    "    # Append the DataFrame to the list\n",
    "    trimmed_decks.append(trimmed_deck)\n",
    "    \n",
    "    # Append the length of the DataFrame to the list\n",
    "    trimmed_deck_lengths.append(len(trimmed_deck))"
   ]
  },
  {
   "cell_type": "code",
   "execution_count": 138,
   "metadata": {},
   "outputs": [],
   "source": [
    "# save deck_length_18plus list as a pickle file\n",
    "\n",
    "# Create a dictionary to hold the DataFrames\n",
    "decks_length_20_dict = {f'deck_{i}': df for i, df in enumerate(decks_length_18plus)}\n",
    "\n",
    "# Save the dictionary as a pickle file\n",
    "with open('decks_length_20c_dict.pkl', 'wb') as f:\n",
    "    pickle.dump(decks_length_20_dict, f)"
   ]
  },
  {
   "cell_type": "code",
   "execution_count": null,
   "metadata": {},
   "outputs": [],
   "source": [
    "# Load the dictionary from the pickle file\n",
    "with open('decks_length_20_dict.pkl', 'rb') as f:\n",
    "    loaded_dict = pickle.load(f)\n",
    "\n",
    "# Now you can access the DataFrames from the dictionary\n",
    "first_deck_df = loaded_dict['deck_0']"
   ]
  },
  {
   "cell_type": "code",
   "execution_count": null,
   "metadata": {},
   "outputs": [],
   "source": [
    "# save unused_cards_lengths_sequences list as a csv file\n",
    "with open('unused_cards_lengths_sequences.csv', 'w', newline='') as file:\n",
    "    writer = csv.writer(file)\n",
    "    writer.writerows(unused_cards_lengths_sequences)"
   ]
  },
  {
   "cell_type": "markdown",
   "metadata": {},
   "source": [
    "## Build up decks from scratch using random selection processes\n",
    "\n",
    "Results from 3 runs of 10,000 iterations each\n",
    "- 30% decks of 18 cards (3042, 2963, and 3040/10,000)\n",
    "- 0.15% decks of 20 cards (22, 12, and 7/10,000)\n",
    "- no decks of 19 cards\n",
    "\n",
    "Conjecture: maximal decks must have an even number of cards.\\\n",
    "  reasoning: all cards not in the deck (\"matching cards\") are associated with pairs of cards in the deck.\\\n",
    "  check to see if there are maximal decks with 17 or fewer cards"
   ]
  },
  {
   "cell_type": "code",
   "execution_count": 134,
   "metadata": {},
   "outputs": [
    {
     "name": "stdout",
     "output_type": "stream",
     "text": [
      "Number of unused_cards sequences 10000\n",
      "Number of decks_length_18 3040\n",
      "Number of decks_length_18plus 7\n"
     ]
    }
   ],
   "source": [
    "verbose = False\n",
    "\n",
    "unused_cards_lengths_sequences = []\n",
    "decks_length_18 = []\n",
    "decks_length_18plus = []\n",
    "\n",
    "for i in range(10000):\n",
    "    full_deck = make_full_deck()\n",
    "    card_deck = full_deck.sample(n=2)\n",
    "    match_deck, unused_cards = find_unused_cards(card_deck)\n",
    "    unused_cards_lengths = [81, 78]\n",
    "\n",
    "    while len(unused_cards) > 0:\n",
    "        card_deck = pd.concat([card_deck, unused_cards.sample(n=1)]).reset_index(drop=True)\n",
    "        match_deck, unused_cards = find_unused_cards(card_deck)\n",
    "        unused_cards_lengths.append(len(unused_cards))\n",
    "        if verbose:\n",
    "            print(len(card_deck), len(match_deck), len(unused_cards))\n",
    "\n",
    "    unused_cards_lengths_sequences.append(unused_cards_lengths)\n",
    "\n",
    "    if len(card_deck) == 18:\n",
    "        decks_length_18.append(card_deck)\n",
    "    elif len(card_deck) > 18:\n",
    "        decks_length_18plus.append(card_deck)\n",
    "        if len(card_deck) > 20:\n",
    "            card_deck.to_csv('deck_length_20plus.csv', index=False)\n",
    "\n",
    "    if verbose:\n",
    "        print(\"Length of card_deck: \", len(card_deck))\n",
    "        print(\"Length of match_deck: \", len(match_deck))\n",
    "        print(\"Length of unused_cards: \", len(unused_cards))\n",
    "        print(\"Lengths of unused_cards: \", len(unused_cards_lengths))\n",
    "\n",
    "print(\"Number of unused_cards sequences\", len(unused_cards_lengths_sequences))\n",
    "print(\"Number of decks_length_18\", len(decks_length_18))\n",
    "print(\"Number of decks_length_18plus\", len(decks_length_18plus))\n"
   ]
  },
  {
   "cell_type": "code",
   "execution_count": null,
   "metadata": {},
   "outputs": [],
   "source": [
    "for i in range(50):\n",
    "    print(len(unused_cards_lengths_sequences[3:200][i]))"
   ]
  },
  {
   "cell_type": "code",
   "execution_count": 154,
   "metadata": {},
   "outputs": [
    {
     "data": {
      "image/png": "[encoded data removed]",
      "text/plain": [
       "<Figure size 432x288 with 1 Axes>"
      ]
     },
     "metadata": {
      "needs_background": "light"
     },
     "output_type": "display_data"
    },
    {
     "data": {
      "text/plain": [
       "[0, 984, 5969, 3040, 0, 7]"
      ]
     },
     "execution_count": 154,
     "metadata": {},
     "output_type": "execute_result"
    }
   ],
   "source": [
    "import matplotlib.pyplot as plt\n",
    "\n",
    "# create a list of lengths of the lists in unused_cards_lengths_sequences\n",
    "lengths = [len(lst) for lst in unused_cards_lengths_sequences]\n",
    "\n",
    "# create a bar chart of the lengths\n",
    "plt.bar(range(15, 21), [lengths.count(i) for i in range(15, 21)])\n",
    "plt.xlabel('Length of list')\n",
    "plt.ylabel('Frequency')\n",
    "plt.title('Number of cards in Maximal SETS Decks')\n",
    "plt.xticks(range(15, 21))\n",
    "plt.show()\n",
    "\n",
    "[lengths.count(i) for i in range(15, 21)]\n"
   ]
  },
  {
   "cell_type": "code",
   "execution_count": 135,
   "metadata": {},
   "outputs": [
    {
     "data": {
      "image/png": "[encoded data removed]",
      "text/plain": [
       "<Figure size 432x288 with 1 Axes>"
      ]
     },
     "metadata": {
      "needs_background": "light"
     },
     "output_type": "display_data"
    }
   ],
   "source": [
    "# graph unused_cards_lengths_sequences\n",
    "for i in range(len(unused_cards_lengths_sequences)):\n",
    "    plt.plot(unused_cards_lengths_sequences[i])"
   ]
  },
  {
   "cell_type": "code",
   "execution_count": null,
   "metadata": {},
   "outputs": [],
   "source": [
    "for i in range(len(decks_length_18plus)):\n",
    "    print(i, len(decks_length_18plus[i]))\n",
    "    decks_length_18plus[i].to_csv('deck_length_20_c' + str(i) + '.csv', index=False)\n"
   ]
  },
  {
   "cell_type": "code",
   "execution_count": 164,
   "metadata": {},
   "outputs": [
    {
     "data": {
      "text/html": [
       "<div>\n",
       "<style scoped>\n",
       "    .dataframe tbody tr th:only-of-type {\n",
       "        vertical-align: middle;\n",
       "    }\n",
       "\n",
       "    .dataframe tbody tr th {\n",
       "        vertical-align: top;\n",
       "    }\n",
       "\n",
       "    .dataframe thead th {\n",
       "        text-align: right;\n",
       "    }\n",
       "</style>\n",
       "<table border=\"1\" class=\"dataframe\">\n",
       "  <thead>\n",
       "    <tr style=\"text-align: right;\">\n",
       "      <th></th>\n",
       "      <th>color</th>\n",
       "      <th>shape</th>\n",
       "      <th>fill</th>\n",
       "      <th>number</th>\n",
       "    </tr>\n",
       "  </thead>\n",
       "  <tbody>\n",
       "    <tr>\n",
       "      <th>0</th>\n",
       "      <td>0</td>\n",
       "      <td>0</td>\n",
       "      <td>0</td>\n",
       "      <td>2</td>\n",
       "    </tr>\n",
       "    <tr>\n",
       "      <th>1</th>\n",
       "      <td>0</td>\n",
       "      <td>0</td>\n",
       "      <td>2</td>\n",
       "      <td>1</td>\n",
       "    </tr>\n",
       "    <tr>\n",
       "      <th>2</th>\n",
       "      <td>0</td>\n",
       "      <td>1</td>\n",
       "      <td>0</td>\n",
       "      <td>0</td>\n",
       "    </tr>\n",
       "    <tr>\n",
       "      <th>3</th>\n",
       "      <td>0</td>\n",
       "      <td>1</td>\n",
       "      <td>1</td>\n",
       "      <td>2</td>\n",
       "    </tr>\n",
       "    <tr>\n",
       "      <th>4</th>\n",
       "      <td>0</td>\n",
       "      <td>1</td>\n",
       "      <td>2</td>\n",
       "      <td>0</td>\n",
       "    </tr>\n",
       "    <tr>\n",
       "      <th>5</th>\n",
       "      <td>0</td>\n",
       "      <td>1</td>\n",
       "      <td>2</td>\n",
       "      <td>2</td>\n",
       "    </tr>\n",
       "    <tr>\n",
       "      <th>6</th>\n",
       "      <td>0</td>\n",
       "      <td>2</td>\n",
       "      <td>1</td>\n",
       "      <td>0</td>\n",
       "    </tr>\n",
       "    <tr>\n",
       "      <th>7</th>\n",
       "      <td>0</td>\n",
       "      <td>2</td>\n",
       "      <td>2</td>\n",
       "      <td>1</td>\n",
       "    </tr>\n",
       "    <tr>\n",
       "      <th>8</th>\n",
       "      <td>1</td>\n",
       "      <td>0</td>\n",
       "      <td>0</td>\n",
       "      <td>1</td>\n",
       "    </tr>\n",
       "    <tr>\n",
       "      <th>9</th>\n",
       "      <td>1</td>\n",
       "      <td>0</td>\n",
       "      <td>2</td>\n",
       "      <td>0</td>\n",
       "    </tr>\n",
       "    <tr>\n",
       "      <th>10</th>\n",
       "      <td>1</td>\n",
       "      <td>1</td>\n",
       "      <td>0</td>\n",
       "      <td>0</td>\n",
       "    </tr>\n",
       "    <tr>\n",
       "      <th>11</th>\n",
       "      <td>1</td>\n",
       "      <td>1</td>\n",
       "      <td>1</td>\n",
       "      <td>0</td>\n",
       "    </tr>\n",
       "    <tr>\n",
       "      <th>12</th>\n",
       "      <td>1</td>\n",
       "      <td>2</td>\n",
       "      <td>1</td>\n",
       "      <td>1</td>\n",
       "    </tr>\n",
       "    <tr>\n",
       "      <th>13</th>\n",
       "      <td>1</td>\n",
       "      <td>2</td>\n",
       "      <td>2</td>\n",
       "      <td>1</td>\n",
       "    </tr>\n",
       "    <tr>\n",
       "      <th>14</th>\n",
       "      <td>2</td>\n",
       "      <td>0</td>\n",
       "      <td>0</td>\n",
       "      <td>1</td>\n",
       "    </tr>\n",
       "    <tr>\n",
       "      <th>15</th>\n",
       "      <td>2</td>\n",
       "      <td>0</td>\n",
       "      <td>2</td>\n",
       "      <td>1</td>\n",
       "    </tr>\n",
       "    <tr>\n",
       "      <th>16</th>\n",
       "      <td>2</td>\n",
       "      <td>1</td>\n",
       "      <td>0</td>\n",
       "      <td>2</td>\n",
       "    </tr>\n",
       "    <tr>\n",
       "      <th>17</th>\n",
       "      <td>2</td>\n",
       "      <td>1</td>\n",
       "      <td>1</td>\n",
       "      <td>2</td>\n",
       "    </tr>\n",
       "    <tr>\n",
       "      <th>18</th>\n",
       "      <td>2</td>\n",
       "      <td>2</td>\n",
       "      <td>1</td>\n",
       "      <td>1</td>\n",
       "    </tr>\n",
       "    <tr>\n",
       "      <th>19</th>\n",
       "      <td>2</td>\n",
       "      <td>2</td>\n",
       "      <td>2</td>\n",
       "      <td>2</td>\n",
       "    </tr>\n",
       "  </tbody>\n",
       "</table>\n",
       "</div>"
      ],
      "text/plain": [
       "    color  shape  fill  number\n",
       "0       0      0     0       2\n",
       "1       0      0     2       1\n",
       "2       0      1     0       0\n",
       "3       0      1     1       2\n",
       "4       0      1     2       0\n",
       "5       0      1     2       2\n",
       "6       0      2     1       0\n",
       "7       0      2     2       1\n",
       "8       1      0     0       1\n",
       "9       1      0     2       0\n",
       "10      1      1     0       0\n",
       "11      1      1     1       0\n",
       "12      1      2     1       1\n",
       "13      1      2     2       1\n",
       "14      2      0     0       1\n",
       "15      2      0     2       1\n",
       "16      2      1     0       2\n",
       "17      2      1     1       2\n",
       "18      2      2     1       1\n",
       "19      2      2     2       2"
      ]
     },
     "execution_count": 164,
     "metadata": {},
     "output_type": "execute_result"
    }
   ],
   "source": [
    "decks_length_18plus[2].sort_values(by=['color', 'shape', 'fill', 'number']).reset_index(drop=True)\n"
   ]
  }
 ],
 "metadata": {
  "kernelspec": {
   "display_name": "Python 3",
   "language": "python",
   "name": "python3"
  },
  "language_info": {
   "codemirror_mode": {
    "name": "ipython",
    "version": 3
   },
   "file_extension": ".py",
   "mimetype": "text/x-python",
   "name": "python",
   "nbconvert_exporter": "python",
   "pygments_lexer": "ipython3",
   "version": "3.11.5"
  }
 },
 "nbformat": 4,
 "nbformat_minor": 2
}
