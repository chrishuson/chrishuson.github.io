{
 "cells": [
  {
   "cell_type": "markdown",
   "metadata": {},
   "source": [
    "# Game of Sets - largest card deck with no matches"
   ]
  },
  {
   "cell_type": "code",
   "execution_count": 1,
   "metadata": {},
   "outputs": [],
   "source": [
    "# Import libraries\n",
    "import numpy as np\n",
    "import pandas as pd\n",
    "import matplotlib.pyplot as plt\n",
    "import seaborn as sns\n"
   ]
  },
  {
   "cell_type": "markdown",
   "metadata": {},
   "source": [
    "## Function definitions\n",
    "- make_card_names\n",
    "- make_full_deck\n",
    "- make_third_card\n",
    "- trim_deck_fast\n"
   ]
  },
  {
   "cell_type": "code",
   "execution_count": 2,
   "metadata": {},
   "outputs": [],
   "source": [
    "# make_card_names function initializes card_names df with names and attributes\n",
    "def make_card_names():\n",
    "    card_names = pd.DataFrame(columns=['color', 'shape', 'fill', 'number'])\n",
    "    card_names['color'] = ['red', 'green', 'purple']\n",
    "    card_names['shape'] = ['oval', 'diamond', 'squiggle']\n",
    "    card_names['fill'] = ['solid', 'striped', 'empty']\n",
    "    card_names['number'] = [1, 2, 3]\n",
    "    return card_names"
   ]
  },
  {
   "cell_type": "code",
   "execution_count": 3,
   "metadata": {},
   "outputs": [],
   "source": [
    "# make_full_deck function prepopulates complete card_deck df with all possible combinations using numbers 0, 1, 2 for each of four attributes (n=81)\n",
    "def make_full_deck():\n",
    "    card_deck = pd.DataFrame(columns=['color', 'shape', 'fill', 'number'])\n",
    "    card_deck['color'] = [0] * 27 + [1] * 27 + [2] * 27\n",
    "    card_deck['shape'] = ([0] * 9 + [1] * 9 + [2] * 9 ) * 3\n",
    "    card_deck['fill'] =  ([0] * 3 + [1] * 3 + [2] * 3 ) * 9\n",
    "    card_deck['number'] = [0, 1, 2] * 27\n",
    "    return card_deck"
   ]
  },
  {
   "cell_type": "code",
   "execution_count": 4,
   "metadata": {},
   "outputs": [
    {
     "data": {
      "text/plain": [
       "81"
      ]
     },
     "execution_count": 4,
     "metadata": {},
     "output_type": "execute_result"
    }
   ],
   "source": [
    "# test or run make_full_deck function\n",
    "card_deck = make_full_deck()\n",
    "len(card_deck)"
   ]
  },
  {
   "cell_type": "code",
   "execution_count": 5,
   "metadata": {},
   "outputs": [],
   "source": [
    "# make_third_card function creates third card to make a set\n",
    "def make_third_card(card1, card2):\n",
    "    # Calculate the sum of corresponding elements in card1 and card2, then take the result mod 3\n",
    "    sum_mod_3 = (card1.values[0] + card2.values[0]) % 3\n",
    "\n",
    "    # Calculate the third integer 'c' based on the formula: c = 3 - (a + b) mod 3\n",
    "    c_values = 3 - sum_mod_3\n",
    "    c_values[c_values == 3] = 0  # Replace 3 with 0, as 3 mod 3 is 0\n",
    "\n",
    "    # return the resulting dataframe card3\n",
    "    return pd.DataFrame([c_values], columns=card1.columns)"
   ]
  },
  {
   "cell_type": "code",
   "execution_count": 6,
   "metadata": {},
   "outputs": [],
   "source": [
    "# trim_deck_fast function selects two random cards, finds the third card that would make a set and drops it from the card_deck if it is present.\n",
    "# Note that not all matching sets are necessarily removed. Search is random and not exhaustive.\n",
    "def trim_deck_fast(card_deck, iterations=100):\n",
    "    for i in range(iterations):\n",
    "        card1 = card_deck.sample(n=1)\n",
    "        card2 = card_deck.sample(n=1)\n",
    "        # make sure card1 and card2 are not the same card\n",
    "        while card1.equals(card2):\n",
    "            card2 = card_deck.sample()\n",
    "        card3 = make_third_card(card1, card2)\n",
    "        # print('three cards {} {} {}'.format(card1, card2, card3))\n",
    "        try: \n",
    "            i = card_deck[card_deck.eq(card3.squeeze()).all(1)].index\n",
    "            # if i is not empty, remove the card from the deck\n",
    "            if i.empty:\n",
    "                pass\n",
    "                # print('No set found. Continuing...')\n",
    "            else:\n",
    "                # print('Found a set! Removing cards {} {}'.format(i, card_deck.loc[i]))\n",
    "                card_deck = card_deck.drop(i)\n",
    "        except KeyError:\n",
    "            pass\n",
    "    return card_deck"
   ]
  },
  {
   "cell_type": "code",
   "execution_count": null,
   "metadata": {},
   "outputs": [],
   "source": [
    "# test or run trim_deck_fast function\n",
    "print(len(card_deck))\n",
    "card_deck = trim_deck_fast(card_deck, iterations=1000)\n",
    "len(card_deck)"
   ]
  },
  {
   "cell_type": "code",
   "execution_count": 17,
   "metadata": {},
   "outputs": [],
   "source": [
    "# make_deck_of_matches function takes a card_deck and returns a deck of all cards that match any pair in the input deck\n",
    "\n",
    "def make_deck_of_matches(card_deck):\n",
    "    card_deck_of_matches = pd.DataFrame(columns=['color', 'shape', 'fill', 'number'])\n",
    "    for i, (index1, _) in enumerate(card_deck.iterrows()):\n",
    "        card1 = card_deck.loc[[index1]]\n",
    "        for index2 in list(card_deck.index)[i+1:]:\n",
    "            card2 = card_deck.loc[[index2]]\n",
    "            card3 = make_third_card(card1, card2)\n",
    "            # print(i, index1, card1, \"\\n\")\n",
    "            # print(\"index2 = \", index2, \"\\n card2 = \", card2, \"\\n\")\n",
    "            # print(card3)\n",
    "            # card_deck_of_matches = card_deck_of_matches.append(card3) # this is slow\n",
    "            card_deck_of_matches = pd.concat([card_deck_of_matches, card3], ignore_index=True)\n",
    "    card_deck_of_matches.reset_index(drop=True, inplace=True)\n",
    "    return card_deck_of_matches"
   ]
  },
  {
   "cell_type": "markdown",
   "metadata": {},
   "source": [
    "## Legacy functions"
   ]
  },
  {
   "cell_type": "code",
   "execution_count": 8,
   "metadata": {},
   "outputs": [],
   "source": [
    "# LEGACY is_set function takes in three cards and returns True if they are a set, False otherwise\n",
    "def is_set(card1, card2, card3):\n",
    "    # check if all cards are the same card\n",
    "    if card1.equals(card2) and card2.equals(card3):\n",
    "        return False\n",
    "    # check if any two cards are the same card\n",
    "    if card1.equals(card2) or card2.equals(card3) or card1.equals(card3):\n",
    "        return False\n",
    "    # check if any two cards are not a set\n",
    "    if (card1['color'] + card2['color'] + card3['color']) % 3 != 0:\n",
    "        return False\n",
    "    if (card1['shape'] + card2['shape'] + card3['shape']) % 3 != 0:\n",
    "        return False\n",
    "    if (card1['fill'] + card2['fill'] + card3['fill']) % 3 != 0:\n",
    "        return False\n",
    "    if (card1['number'] + card2['number'] + card3['number']) % 3 != 0:\n",
    "        return False\n",
    "    # if all checks pass, return True\n",
    "    return True"
   ]
  },
  {
   "cell_type": "code",
   "execution_count": 9,
   "metadata": {},
   "outputs": [],
   "source": [
    "# LEGACY trim_sets function takes in a card deck and two cards selected by their index and returns a card deck with all cards making a set with those two cards removed\n",
    "def trim_sets(card_deck, card1_index, card2_index):\n",
    "    # check that card1_index and card2_index are in range\n",
    "    if card1_index >= len(card_deck) or card2_index >= len(card_deck):\n",
    "        print('Error: card index out of range')\n",
    "        return card_deck\n",
    "    # initialize empty list to store indices of sets\n",
    "    sets = []\n",
    "    # loop through all cards in deck\n",
    "    for i in range(len(card_deck)):\n",
    "        # check if cards are a set\n",
    "        if is_set(card_deck.iloc[card1_index], card_deck.iloc[card2_index], card_deck.iloc[i]):\n",
    "            # add index of set to sets list\n",
    "            sets.append(i)\n",
    "    # drop sets from card deck\n",
    "    card_deck = card_deck.drop(sets)\n",
    "    # reset index\n",
    "    card_deck = card_deck.reset_index(drop=True)\n",
    "    # return card deck\n",
    "    return card_deck"
   ]
  },
  {
   "cell_type": "code",
   "execution_count": 271,
   "metadata": {},
   "outputs": [],
   "source": [
    "# LEGACY trim_deck function takes in a card deck and uses the trim sets function to trim sets from the deck from a random starting point. Matching sets are *not* exhaustively removed.\n",
    "# iterations defaults to 100, but can be changed to trim more sets\n",
    "def trim_deck(card_deck, iterations=100):\n",
    "    for i in range(iterations):\n",
    "        # pick two random cards from the deck\n",
    "        card1_index = np.random.randint(len(card_deck))\n",
    "        card2_index = np.random.randint(len(card_deck))\n",
    "        # trim card deck of all sets with those two cards\n",
    "        card_deck = trim_sets(card_deck, card1_index, card2_index)\n",
    "    return card_deck"
   ]
  },
  {
   "cell_type": "markdown",
   "metadata": {},
   "source": [
    "## Main program\n",
    "\n",
    "1. First search for decks with no matches by trimming a full deck of 81 cards. \n",
    "1. Confirm that the trimmed deck doesn't contain any matches.\n",
    "1. Then search for larger decks by adding cards to the trimmed deck."
   ]
  },
  {
   "cell_type": "code",
   "execution_count": 208,
   "metadata": {},
   "outputs": [
    {
     "data": {
      "text/plain": [
       "(array([7.000e+00, 8.700e+01, 3.510e+02, 1.035e+03, 2.127e+03, 2.987e+03,\n",
       "        2.952e+03, 4.250e+02, 2.800e+01, 1.000e+00]),\n",
       " array([ 9. ,  9.9, 10.8, 11.7, 12.6, 13.5, 14.4, 15.3, 16.2, 17.1, 18. ]),\n",
       " <BarContainer object of 10 artists>)"
      ]
     },
     "execution_count": 208,
     "metadata": {},
     "output_type": "execute_result"
    },
    {
     "data": {
      "image/png": "[encoded data removed]",
      "text/plain": [
       "<Figure size 432x288 with 1 Axes>"
      ]
     },
     "metadata": {
      "needs_background": "light"
     },
     "output_type": "display_data"
    }
   ],
   "source": [
    "# trim a bunch of full card_decks and record the final lengths and resulting deck\n",
    "trimmed_decks = []\n",
    "trimmed_deck_lengths = []\n",
    "for i in range(10000):\n",
    "    # make a new deck\n",
    "    card_deck = make_full_deck()\n",
    "    # trim the deck\n",
    "    card_deck = trim_deck_fast(card_deck, 200)\n",
    "    # run again if length is more than 15, then 16\n",
    "    if len(card_deck) > 15:\n",
    "        card_deck = trim_deck_fast(card_deck, 1000)\n",
    "    if len(card_deck) > 16:\n",
    "        card_deck = trim_deck_fast(card_deck, 5000)\n",
    "    # add the deck to the list of trimmed decks\n",
    "    trimmed_decks.append(card_deck)\n",
    "    # add the length of the deck to the list of trimmed deck lengths\n",
    "    trimmed_deck_lengths.append(len(card_deck))\n",
    "\n",
    "# plot the distribution of trimmed deck lengths\n",
    "plt.hist(trimmed_deck_lengths)"
   ]
  },
  {
   "cell_type": "code",
   "execution_count": null,
   "metadata": {},
   "outputs": [],
   "source": [
    "# count the number of times each deck length appears and sort the output\n",
    "trimmed_deck_lengths = pd.Series(trimmed_deck_lengths)\n",
    "trimmed_deck_lengths.value_counts().sort_index()\n"
   ]
  },
  {
   "cell_type": "code",
   "execution_count": 210,
   "metadata": {},
   "outputs": [
    {
     "data": {
      "text/plain": [
       "29"
      ]
     },
     "execution_count": 210,
     "metadata": {},
     "output_type": "execute_result"
    }
   ],
   "source": [
    "long_decks = []\n",
    "for i in range(len(trimmed_decks)):\n",
    "    if len(trimmed_decks[i]) > 16:\n",
    "        long_decks.append(trimmed_decks[i])\n",
    "len(long_decks)"
   ]
  },
  {
   "cell_type": "code",
   "execution_count": null,
   "metadata": {},
   "outputs": [],
   "source": [
    "# loop through long_decks and apply trim_deck function to each deck\n",
    "for i in range(len(long_decks)):\n",
    "    long_decks[i] = trim_deck_fast(long_decks[i], 5000)\n",
    "\n",
    "# print the length of each deck\n",
    "for i in range(len(long_decks)):\n",
    "    print(len(long_decks[i]))"
   ]
  },
  {
   "cell_type": "code",
   "execution_count": 214,
   "metadata": {},
   "outputs": [],
   "source": [
    "# loop through long_decks and save each deck to a csv file\n",
    "for i in range(len(long_decks)):\n",
    "    long_decks[i].to_csv('trimmed_deck_b' + str(i) + '.csv', index=True)\n"
   ]
  },
  {
   "cell_type": "code",
   "execution_count": null,
   "metadata": {},
   "outputs": [],
   "source": [
    "# print the decks from trimmed_decks with the longest length\n",
    "for i in range(len(trimmed_decks)):\n",
    "    if len(trimmed_decks[i]) > 16:\n",
    "        print(i, trimmed_decks[i])"
   ]
  },
  {
   "cell_type": "markdown",
   "metadata": {},
   "source": [
    "## test and explore making decks of matches"
   ]
  },
  {
   "cell_type": "code",
   "execution_count": 9,
   "metadata": {},
   "outputs": [
    {
     "data": {
      "text/html": [
       "<div>\n",
       "<style scoped>\n",
       "    .dataframe tbody tr th:only-of-type {\n",
       "        vertical-align: middle;\n",
       "    }\n",
       "\n",
       "    .dataframe tbody tr th {\n",
       "        vertical-align: top;\n",
       "    }\n",
       "\n",
       "    .dataframe thead th {\n",
       "        text-align: right;\n",
       "    }\n",
       "</style>\n",
       "<table border=\"1\" class=\"dataframe\">\n",
       "  <thead>\n",
       "    <tr style=\"text-align: right;\">\n",
       "      <th></th>\n",
       "      <th>color</th>\n",
       "      <th>shape</th>\n",
       "      <th>fill</th>\n",
       "      <th>number</th>\n",
       "    </tr>\n",
       "  </thead>\n",
       "  <tbody>\n",
       "    <tr>\n",
       "      <th>0</th>\n",
       "      <td>0</td>\n",
       "      <td>0</td>\n",
       "      <td>0</td>\n",
       "      <td>0</td>\n",
       "    </tr>\n",
       "    <tr>\n",
       "      <th>4</th>\n",
       "      <td>0</td>\n",
       "      <td>0</td>\n",
       "      <td>1</td>\n",
       "      <td>1</td>\n",
       "    </tr>\n",
       "    <tr>\n",
       "      <th>6</th>\n",
       "      <td>0</td>\n",
       "      <td>0</td>\n",
       "      <td>2</td>\n",
       "      <td>0</td>\n",
       "    </tr>\n",
       "    <tr>\n",
       "      <th>10</th>\n",
       "      <td>0</td>\n",
       "      <td>1</td>\n",
       "      <td>0</td>\n",
       "      <td>1</td>\n",
       "    </tr>\n",
       "    <tr>\n",
       "      <th>11</th>\n",
       "      <td>0</td>\n",
       "      <td>1</td>\n",
       "      <td>0</td>\n",
       "      <td>2</td>\n",
       "    </tr>\n",
       "  </tbody>\n",
       "</table>\n",
       "</div>"
      ],
      "text/plain": [
       "    color  shape  fill  number\n",
       "0       0      0     0       0\n",
       "4       0      0     1       1\n",
       "6       0      0     2       0\n",
       "10      0      1     0       1\n",
       "11      0      1     0       2"
      ]
     },
     "execution_count": 9,
     "metadata": {},
     "output_type": "execute_result"
    }
   ],
   "source": [
    "test_deck = card_deck.iloc[[0, 4, 6, 10, 11]]\n",
    "test_deck"
   ]
  },
  {
   "cell_type": "code",
   "execution_count": 10,
   "metadata": {},
   "outputs": [
    {
     "name": "stdout",
     "output_type": "stream",
     "text": [
      "duplicate rows:  Empty DataFrame\n",
      "Columns: [index, color, shape, fill, number]\n",
      "Index: []\n"
     ]
    },
    {
     "data": {
      "text/html": [
       "<div>\n",
       "<style scoped>\n",
       "    .dataframe tbody tr th:only-of-type {\n",
       "        vertical-align: middle;\n",
       "    }\n",
       "\n",
       "    .dataframe tbody tr th {\n",
       "        vertical-align: top;\n",
       "    }\n",
       "\n",
       "    .dataframe thead th {\n",
       "        text-align: right;\n",
       "    }\n",
       "</style>\n",
       "<table border=\"1\" class=\"dataframe\">\n",
       "  <thead>\n",
       "    <tr style=\"text-align: right;\">\n",
       "      <th></th>\n",
       "      <th>index</th>\n",
       "      <th>color</th>\n",
       "      <th>shape</th>\n",
       "      <th>fill</th>\n",
       "      <th>number</th>\n",
       "    </tr>\n",
       "  </thead>\n",
       "  <tbody>\n",
       "    <tr>\n",
       "      <th>0</th>\n",
       "      <td>0</td>\n",
       "      <td>0</td>\n",
       "      <td>0</td>\n",
       "      <td>2</td>\n",
       "      <td>2</td>\n",
       "    </tr>\n",
       "    <tr>\n",
       "      <th>1</th>\n",
       "      <td>1</td>\n",
       "      <td>0</td>\n",
       "      <td>0</td>\n",
       "      <td>1</td>\n",
       "      <td>0</td>\n",
       "    </tr>\n",
       "    <tr>\n",
       "      <th>2</th>\n",
       "      <td>2</td>\n",
       "      <td>0</td>\n",
       "      <td>2</td>\n",
       "      <td>0</td>\n",
       "      <td>2</td>\n",
       "    </tr>\n",
       "    <tr>\n",
       "      <th>3</th>\n",
       "      <td>3</td>\n",
       "      <td>0</td>\n",
       "      <td>2</td>\n",
       "      <td>0</td>\n",
       "      <td>1</td>\n",
       "    </tr>\n",
       "    <tr>\n",
       "      <th>4</th>\n",
       "      <td>4</td>\n",
       "      <td>0</td>\n",
       "      <td>0</td>\n",
       "      <td>0</td>\n",
       "      <td>2</td>\n",
       "    </tr>\n",
       "    <tr>\n",
       "      <th>5</th>\n",
       "      <td>5</td>\n",
       "      <td>0</td>\n",
       "      <td>2</td>\n",
       "      <td>2</td>\n",
       "      <td>1</td>\n",
       "    </tr>\n",
       "    <tr>\n",
       "      <th>6</th>\n",
       "      <td>6</td>\n",
       "      <td>0</td>\n",
       "      <td>2</td>\n",
       "      <td>2</td>\n",
       "      <td>0</td>\n",
       "    </tr>\n",
       "    <tr>\n",
       "      <th>7</th>\n",
       "      <td>7</td>\n",
       "      <td>0</td>\n",
       "      <td>2</td>\n",
       "      <td>1</td>\n",
       "      <td>2</td>\n",
       "    </tr>\n",
       "    <tr>\n",
       "      <th>8</th>\n",
       "      <td>8</td>\n",
       "      <td>0</td>\n",
       "      <td>2</td>\n",
       "      <td>1</td>\n",
       "      <td>1</td>\n",
       "    </tr>\n",
       "    <tr>\n",
       "      <th>9</th>\n",
       "      <td>9</td>\n",
       "      <td>0</td>\n",
       "      <td>1</td>\n",
       "      <td>0</td>\n",
       "      <td>0</td>\n",
       "    </tr>\n",
       "  </tbody>\n",
       "</table>\n",
       "</div>"
      ],
      "text/plain": [
       "   index color shape fill number\n",
       "0      0     0     0    2      2\n",
       "1      1     0     0    1      0\n",
       "2      2     0     2    0      2\n",
       "3      3     0     2    0      1\n",
       "4      4     0     0    0      2\n",
       "5      5     0     2    2      1\n",
       "6      6     0     2    2      0\n",
       "7      7     0     2    1      2\n",
       "8      8     0     2    1      1\n",
       "9      9     0     1    0      0"
      ]
     },
     "execution_count": 10,
     "metadata": {},
     "output_type": "execute_result"
    }
   ],
   "source": [
    "test_deck_of_matches = make_deck_of_matches(test_deck)\n",
    "duplicate_rows = test_deck_of_matches[test_deck_of_matches.duplicated()]\n",
    "\n",
    "print(\"duplicate rows: \", duplicate_rows)\n",
    "test_deck_of_matches"
   ]
  },
  {
   "cell_type": "code",
   "execution_count": 15,
   "metadata": {},
   "outputs": [
    {
     "name": "stdout",
     "output_type": "stream",
     "text": [
      "length =  17\n",
      "duplicate rows:  Empty DataFrame\n",
      "Columns: [color, shape, fill, number]\n",
      "Index: []\n"
     ]
    },
    {
     "data": {
      "text/html": [
       "<div>\n",
       "<style scoped>\n",
       "    .dataframe tbody tr th:only-of-type {\n",
       "        vertical-align: middle;\n",
       "    }\n",
       "\n",
       "    .dataframe tbody tr th {\n",
       "        vertical-align: top;\n",
       "    }\n",
       "\n",
       "    .dataframe thead th {\n",
       "        text-align: right;\n",
       "    }\n",
       "</style>\n",
       "<table border=\"1\" class=\"dataframe\">\n",
       "  <thead>\n",
       "    <tr style=\"text-align: right;\">\n",
       "      <th></th>\n",
       "      <th>color</th>\n",
       "      <th>shape</th>\n",
       "      <th>fill</th>\n",
       "      <th>number</th>\n",
       "    </tr>\n",
       "  </thead>\n",
       "  <tbody>\n",
       "    <tr>\n",
       "      <th>0</th>\n",
       "      <td>0</td>\n",
       "      <td>0</td>\n",
       "      <td>0</td>\n",
       "      <td>0</td>\n",
       "    </tr>\n",
       "    <tr>\n",
       "      <th>1</th>\n",
       "      <td>0</td>\n",
       "      <td>0</td>\n",
       "      <td>1</td>\n",
       "      <td>2</td>\n",
       "    </tr>\n",
       "    <tr>\n",
       "      <th>2</th>\n",
       "      <td>0</td>\n",
       "      <td>0</td>\n",
       "      <td>2</td>\n",
       "      <td>2</td>\n",
       "    </tr>\n",
       "    <tr>\n",
       "      <th>3</th>\n",
       "      <td>0</td>\n",
       "      <td>2</td>\n",
       "      <td>1</td>\n",
       "      <td>1</td>\n",
       "    </tr>\n",
       "    <tr>\n",
       "      <th>4</th>\n",
       "      <td>0</td>\n",
       "      <td>2</td>\n",
       "      <td>2</td>\n",
       "      <td>0</td>\n",
       "    </tr>\n",
       "    <tr>\n",
       "      <th>5</th>\n",
       "      <td>0</td>\n",
       "      <td>2</td>\n",
       "      <td>2</td>\n",
       "      <td>1</td>\n",
       "    </tr>\n",
       "    <tr>\n",
       "      <th>6</th>\n",
       "      <td>1</td>\n",
       "      <td>0</td>\n",
       "      <td>0</td>\n",
       "      <td>1</td>\n",
       "    </tr>\n",
       "    <tr>\n",
       "      <th>7</th>\n",
       "      <td>1</td>\n",
       "      <td>0</td>\n",
       "      <td>1</td>\n",
       "      <td>2</td>\n",
       "    </tr>\n",
       "    <tr>\n",
       "      <th>8</th>\n",
       "      <td>1</td>\n",
       "      <td>0</td>\n",
       "      <td>2</td>\n",
       "      <td>1</td>\n",
       "    </tr>\n",
       "    <tr>\n",
       "      <th>9</th>\n",
       "      <td>1</td>\n",
       "      <td>1</td>\n",
       "      <td>1</td>\n",
       "      <td>0</td>\n",
       "    </tr>\n",
       "    <tr>\n",
       "      <th>10</th>\n",
       "      <td>1</td>\n",
       "      <td>2</td>\n",
       "      <td>2</td>\n",
       "      <td>0</td>\n",
       "    </tr>\n",
       "    <tr>\n",
       "      <th>11</th>\n",
       "      <td>2</td>\n",
       "      <td>0</td>\n",
       "      <td>1</td>\n",
       "      <td>1</td>\n",
       "    </tr>\n",
       "    <tr>\n",
       "      <th>12</th>\n",
       "      <td>2</td>\n",
       "      <td>0</td>\n",
       "      <td>2</td>\n",
       "      <td>2</td>\n",
       "    </tr>\n",
       "    <tr>\n",
       "      <th>13</th>\n",
       "      <td>2</td>\n",
       "      <td>1</td>\n",
       "      <td>0</td>\n",
       "      <td>2</td>\n",
       "    </tr>\n",
       "    <tr>\n",
       "      <th>14</th>\n",
       "      <td>2</td>\n",
       "      <td>2</td>\n",
       "      <td>0</td>\n",
       "      <td>0</td>\n",
       "    </tr>\n",
       "    <tr>\n",
       "      <th>15</th>\n",
       "      <td>2</td>\n",
       "      <td>2</td>\n",
       "      <td>1</td>\n",
       "      <td>0</td>\n",
       "    </tr>\n",
       "    <tr>\n",
       "      <th>16</th>\n",
       "      <td>2</td>\n",
       "      <td>2</td>\n",
       "      <td>2</td>\n",
       "      <td>1</td>\n",
       "    </tr>\n",
       "  </tbody>\n",
       "</table>\n",
       "</div>"
      ],
      "text/plain": [
       "    color  shape  fill  number\n",
       "0       0      0     0       0\n",
       "1       0      0     1       2\n",
       "2       0      0     2       2\n",
       "3       0      2     1       1\n",
       "4       0      2     2       0\n",
       "5       0      2     2       1\n",
       "6       1      0     0       1\n",
       "7       1      0     1       2\n",
       "8       1      0     2       1\n",
       "9       1      1     1       0\n",
       "10      1      2     2       0\n",
       "11      2      0     1       1\n",
       "12      2      0     2       2\n",
       "13      2      1     0       2\n",
       "14      2      2     0       0\n",
       "15      2      2     1       0\n",
       "16      2      2     2       1"
      ]
     },
     "execution_count": 15,
     "metadata": {},
     "output_type": "execute_result"
    }
   ],
   "source": [
    "# Import a saved trimmed deck\n",
    "trimmed_deck_0 = pd.read_csv('trimmed_deck_0.csv', index_col=False)\n",
    "trimmed_deck_0 = trimmed_deck_0.reset_index(drop=True)\n",
    "print(\"length = \", len(trimmed_deck_0))\n",
    "print(\"duplicate rows: \", trimmed_deck_0[trimmed_deck_0.duplicated()])\n",
    "trimmed_deck_0\n"
   ]
  },
  {
   "cell_type": "code",
   "execution_count": 19,
   "metadata": {},
   "outputs": [
    {
     "name": "stdout",
     "output_type": "stream",
     "text": [
      "length =  136\n",
      "duplicate rows:      color shape fill number\n",
      "17      0     1    1      0\n",
      "21      2     0    1      2\n",
      "30      1     1    0      0\n",
      "31      0     1    0      0\n",
      "35      2     0    0      2\n",
      "..    ...   ...  ...    ...\n",
      "131     2     0    2      1\n",
      "132     2     0    1      0\n",
      "133     2     2    2      0\n",
      "134     2     2    1      2\n",
      "135     2     2    0      2\n",
      "\n",
      "[72 rows x 4 columns]\n",
      "length =  64\n",
      "duplicate rows:  Empty DataFrame\n",
      "Columns: [color, shape, fill, number]\n",
      "Index: []\n"
     ]
    },
    {
     "data": {
      "text/html": [
       "<div>\n",
       "<style scoped>\n",
       "    .dataframe tbody tr th:only-of-type {\n",
       "        vertical-align: middle;\n",
       "    }\n",
       "\n",
       "    .dataframe tbody tr th {\n",
       "        vertical-align: top;\n",
       "    }\n",
       "\n",
       "    .dataframe thead th {\n",
       "        text-align: right;\n",
       "    }\n",
       "</style>\n",
       "<table border=\"1\" class=\"dataframe\">\n",
       "  <thead>\n",
       "    <tr style=\"text-align: right;\">\n",
       "      <th></th>\n",
       "      <th>color</th>\n",
       "      <th>shape</th>\n",
       "      <th>fill</th>\n",
       "      <th>number</th>\n",
       "    </tr>\n",
       "  </thead>\n",
       "  <tbody>\n",
       "    <tr>\n",
       "      <th>0</th>\n",
       "      <td>0</td>\n",
       "      <td>0</td>\n",
       "      <td>2</td>\n",
       "      <td>1</td>\n",
       "    </tr>\n",
       "    <tr>\n",
       "      <th>1</th>\n",
       "      <td>0</td>\n",
       "      <td>0</td>\n",
       "      <td>1</td>\n",
       "      <td>1</td>\n",
       "    </tr>\n",
       "    <tr>\n",
       "      <th>2</th>\n",
       "      <td>0</td>\n",
       "      <td>1</td>\n",
       "      <td>2</td>\n",
       "      <td>2</td>\n",
       "    </tr>\n",
       "    <tr>\n",
       "      <th>3</th>\n",
       "      <td>0</td>\n",
       "      <td>1</td>\n",
       "      <td>1</td>\n",
       "      <td>0</td>\n",
       "    </tr>\n",
       "    <tr>\n",
       "      <th>4</th>\n",
       "      <td>0</td>\n",
       "      <td>1</td>\n",
       "      <td>1</td>\n",
       "      <td>2</td>\n",
       "    </tr>\n",
       "    <tr>\n",
       "      <th>...</th>\n",
       "      <td>...</td>\n",
       "      <td>...</td>\n",
       "      <td>...</td>\n",
       "      <td>...</td>\n",
       "    </tr>\n",
       "    <tr>\n",
       "      <th>104</th>\n",
       "      <td>0</td>\n",
       "      <td>2</td>\n",
       "      <td>1</td>\n",
       "      <td>0</td>\n",
       "    </tr>\n",
       "    <tr>\n",
       "      <th>109</th>\n",
       "      <td>0</td>\n",
       "      <td>2</td>\n",
       "      <td>1</td>\n",
       "      <td>2</td>\n",
       "    </tr>\n",
       "    <tr>\n",
       "      <th>126</th>\n",
       "      <td>2</td>\n",
       "      <td>2</td>\n",
       "      <td>1</td>\n",
       "      <td>2</td>\n",
       "    </tr>\n",
       "    <tr>\n",
       "      <th>129</th>\n",
       "      <td>2</td>\n",
       "      <td>1</td>\n",
       "      <td>2</td>\n",
       "      <td>0</td>\n",
       "    </tr>\n",
       "    <tr>\n",
       "      <th>130</th>\n",
       "      <td>2</td>\n",
       "      <td>0</td>\n",
       "      <td>0</td>\n",
       "      <td>1</td>\n",
       "    </tr>\n",
       "  </tbody>\n",
       "</table>\n",
       "<p>64 rows × 4 columns</p>\n",
       "</div>"
      ],
      "text/plain": [
       "    color shape fill number\n",
       "0       0     0    2      1\n",
       "1       0     0    1      1\n",
       "2       0     1    2      2\n",
       "3       0     1    1      0\n",
       "4       0     1    1      2\n",
       "..    ...   ...  ...    ...\n",
       "104     0     2    1      0\n",
       "109     0     2    1      2\n",
       "126     2     2    1      2\n",
       "129     2     1    2      0\n",
       "130     2     0    0      1\n",
       "\n",
       "[64 rows x 4 columns]"
      ]
     },
     "execution_count": 19,
     "metadata": {},
     "output_type": "execute_result"
    }
   ],
   "source": [
    "match_deck_0 = make_deck_of_matches(trimmed_deck_0)\n",
    "print(\"length = \", len(match_deck_0))\n",
    "print(\"duplicate rows: \", match_deck_0[match_deck_0.duplicated()])\n",
    "match_deck_0 = match_deck_0.drop_duplicates()\n",
    "print(\"length = \", len(match_deck_0))\n",
    "print(\"duplicate rows: \", match_deck_0[match_deck_0.duplicated()])\n",
    "match_deck_0"
   ]
  },
  {
   "cell_type": "code",
   "execution_count": 26,
   "metadata": {},
   "outputs": [
    {
     "name": "stdout",
     "output_type": "stream",
     "text": [
      "Empty DataFrame\n",
      "Columns: [color, shape, fill, number]\n",
      "Index: []\n"
     ]
    }
   ],
   "source": [
    "common_rows = trimmed_deck_0.merge(match_deck_0)\n",
    "print(common_rows)\n"
   ]
  },
  {
   "cell_type": "code",
   "execution_count": 25,
   "metadata": {},
   "outputs": [
    {
     "data": {
      "text/plain": [
       "False"
      ]
     },
     "execution_count": 25,
     "metadata": {},
     "output_type": "execute_result"
    }
   ],
   "source": [
    " (match_deck_0).isin(trimmed_deck_0).all(axis=1).any()"
   ]
  },
  {
   "cell_type": "code",
   "execution_count": 22,
   "metadata": {},
   "outputs": [
    {
     "data": {
      "text/plain": [
       "17"
      ]
     },
     "execution_count": 22,
     "metadata": {},
     "output_type": "execute_result"
    }
   ],
   "source": [
    "len(trimmed_deck_0)"
   ]
  },
  {
   "cell_type": "code",
   "execution_count": 29,
   "metadata": {},
   "outputs": [
    {
     "name": "stdout",
     "output_type": "stream",
     "text": [
      "Length of trimmed_deck:  17\n",
      "Length of match_deck:  136\n",
      "Length of unique_rows:  0\n"
     ]
    }
   ],
   "source": [
    "trimmed_deck = trimmed_deck_0\n",
    "\n",
    "# Step 1: Create the match_deck\n",
    "match_deck = make_deck_of_matches(trimmed_deck)\n",
    "\n",
    "# Step 2: Check for duplicates\n",
    "trimmed_deck_duplicates = trimmed_deck[trimmed_deck.duplicated()]\n",
    "match_deck_duplicates = match_deck[match_deck.duplicated()]\n",
    "\n",
    "full_deck = make_full_deck()\n",
    "# unique_rows = full_deck[~full_deck.isin(trimmed_deck.append(match_deck))]\n",
    "\n",
    "# Step 3: Find unique rows\n",
    "combined_deck = pd.concat([trimmed_deck, match_deck]).drop_duplicates()\n",
    "# unused_cards = full_deck[~full_deck.isin(combined_deck).all(axis=1)]\n",
    "unused_cards = full_deck[~full_deck.apply(tuple, axis=1).isin(combined_deck.apply(tuple, axis=1))]\n",
    "\n",
    "\n",
    "# Step 4: Print out lengths\n",
    "print(\"Length of trimmed_deck: \", len(trimmed_deck))\n",
    "print(\"Length of match_deck: \", len(match_deck))\n",
    "print(\"Length of unique_rows: \", len(unused_cards))"
   ]
  }
 ],
 "metadata": {
  "kernelspec": {
   "display_name": "Python 3",
   "language": "python",
   "name": "python3"
  },
  "language_info": {
   "codemirror_mode": {
    "name": "ipython",
    "version": 3
   },
   "file_extension": ".py",
   "mimetype": "text/x-python",
   "name": "python",
   "nbconvert_exporter": "python",
   "pygments_lexer": "ipython3",
   "version": "3.9.12"
  }
 },
 "nbformat": 4,
 "nbformat_minor": 2
}
