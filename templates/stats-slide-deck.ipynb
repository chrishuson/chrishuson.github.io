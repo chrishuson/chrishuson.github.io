{
 "cells": [
  {
   "cell_type": "raw",
   "metadata": {
    "slideshow": {
     "slide_type": "skip"
    }
   },
   "source": [
    "---\n",
    "title: \"Stats slide deck template\"\n",
    "format:\n",
    "    html:\n",
    "        code-fold: true\n",
    "execute:\n",
    "    enabled: true\n",
    "jupyter: python3\n",
    "---"
   ]
  },
  {
   "attachments": {},
   "cell_type": "markdown",
   "metadata": {
    "slideshow": {
     "slide_type": "skip"
    }
   },
   "source": [
    "### Intialization"
   ]
  },
  {
   "cell_type": "code",
   "execution_count": 1,
   "metadata": {
    "slideshow": {
     "slide_type": "skip"
    }
   },
   "outputs": [
    {
     "data": {
      "text/plain": [
       "'/Users/chris/GitHub/chrishuson.github.io/templates'"
      ]
     },
     "execution_count": 1,
     "metadata": {},
     "output_type": "execute_result"
    }
   ],
   "source": [
    "import os\n",
    "import sys\n",
    "\n",
    "import pandas as pd\n",
    "#pd.set_option('display.max_colwidth', None) # Wrap text in cells to show all of large fields\n",
    "#pd.options.display.float_format = '{:.3f}'.format # 3 decimal places\n",
    "import numpy as np\n",
    "#import plotly_express as px\n",
    "#import seaborn as sns\n",
    "import matplotlib.pyplot as plt\n",
    "%matplotlib inline\n",
    "\n",
    "os.getcwd() #listdir(), mkdir(), chdir()\n",
    "#pd.show_versions(as_json=False)"
   ]
  },
  {
   "attachments": {},
   "cell_type": "markdown",
   "metadata": {
    "slideshow": {
     "slide_type": "slide"
    }
   },
   "source": [
    "### Graph list\n",
    "\n",
    "1. Function curve\n",
    "2. Univariate data\n",
    "    1. Dot plot\n",
    "    1. Categorical, bar chart\n",
    "    2. Discrete: summary statistics, bar chart and box plot\n",
    "    3. Continuous: histogram\n",
    "    4. Frequency table, statistics and charts\n",
    "4. Bivariate data\n",
    "    1. 2-way frequency table\n",
    "    2. Scatterplot (with regression line)\n",
    "\n",
    "### Data sources\n",
    "\n",
    "1. Code cell\n",
    "    1. data list\n",
    "    2. Function-generated values\n",
    "2. Data file import (Excel and/or csv)\n",
    "3. Internet data sources"
   ]
  },
  {
   "attachments": {},
   "cell_type": "markdown",
   "metadata": {
    "slideshow": {
     "slide_type": "skip"
    }
   },
   "source": [
    "### Data sourced from list"
   ]
  },
  {
   "cell_type": "code",
   "execution_count": 66,
   "metadata": {
    "slideshow": {
     "slide_type": "skip"
    }
   },
   "outputs": [],
   "source": [
    "import math, random\n",
    "\n",
    "data = [1,2,2,3,4,4,4,5,5,6,7]\n",
    "data1 = [x+3 for x in data]\n",
    "data2 = [1.5 * x for x in data]\n",
    "\n",
    "data_random = [random.randint(1,20) for x in range(20)]\n",
    "#data_normal = math.normal(5, 2, 100) -- doesn't work\n",
    "\n",
    "df = pd.DataFrame({\"a\": [1, 2, 3], \"b\": [4, 5, 6]})\n",
    "df2 = pd.DataFrame([(4,10), (6, 3), (10,15), (14,19), (16, 7), (19, 7)], columns=['xcol', 'ycol'])"
   ]
  },
  {
   "cell_type": "code",
   "execution_count": 24,
   "metadata": {
    "slideshow": {
     "slide_type": "skip"
    }
   },
   "outputs": [
    {
     "data": {
      "text/html": [
       "<div>\n",
       "<style scoped>\n",
       "    .dataframe tbody tr th:only-of-type {\n",
       "        vertical-align: middle;\n",
       "    }\n",
       "\n",
       "    .dataframe tbody tr th {\n",
       "        vertical-align: top;\n",
       "    }\n",
       "\n",
       "    .dataframe thead th {\n",
       "        text-align: right;\n",
       "    }\n",
       "</style>\n",
       "<table border=\"1\" class=\"dataframe\">\n",
       "  <thead>\n",
       "    <tr style=\"text-align: right;\">\n",
       "      <th></th>\n",
       "      <th>xcol</th>\n",
       "      <th>ycol</th>\n",
       "    </tr>\n",
       "  </thead>\n",
       "  <tbody>\n",
       "    <tr>\n",
       "      <th>0</th>\n",
       "      <td>4</td>\n",
       "      <td>10</td>\n",
       "    </tr>\n",
       "    <tr>\n",
       "      <th>1</th>\n",
       "      <td>6</td>\n",
       "      <td>3</td>\n",
       "    </tr>\n",
       "    <tr>\n",
       "      <th>2</th>\n",
       "      <td>10</td>\n",
       "      <td>15</td>\n",
       "    </tr>\n",
       "    <tr>\n",
       "      <th>3</th>\n",
       "      <td>14</td>\n",
       "      <td>19</td>\n",
       "    </tr>\n",
       "    <tr>\n",
       "      <th>4</th>\n",
       "      <td>16</td>\n",
       "      <td>7</td>\n",
       "    </tr>\n",
       "    <tr>\n",
       "      <th>5</th>\n",
       "      <td>19</td>\n",
       "      <td>7</td>\n",
       "    </tr>\n",
       "  </tbody>\n",
       "</table>\n",
       "</div>"
      ],
      "text/plain": [
       "   xcol  ycol\n",
       "0     4    10\n",
       "1     6     3\n",
       "2    10    15\n",
       "3    14    19\n",
       "4    16     7\n",
       "5    19     7"
      ]
     },
     "execution_count": 24,
     "metadata": {},
     "output_type": "execute_result"
    }
   ],
   "source": [
    "df2"
   ]
  },
  {
   "attachments": {},
   "cell_type": "markdown",
   "metadata": {
    "slideshow": {
     "slide_type": "slide"
    }
   },
   "source": [
    "## Univariate Data"
   ]
  },
  {
   "attachments": {},
   "cell_type": "markdown",
   "metadata": {
    "slideshow": {
     "slide_type": "slide"
    }
   },
   "source": [
    "### Line graphs"
   ]
  },
  {
   "cell_type": "code",
   "execution_count": 85,
   "metadata": {
    "slideshow": {
     "slide_type": "fragment"
    }
   },
   "outputs": [
    {
     "data": {
      "image/png": "[encoded data removed]",
      "text/plain": [
       "<Figure size 432x288 with 1 Axes>"
      ]
     },
     "metadata": {
      "needs_background": "light"
     },
     "output_type": "display_data"
    }
   ],
   "source": [
    "x = range(1, 11)\n",
    "y = [10, 20, 15, 35, 40, 30, 50, 55, 75, 50]\n",
    "\n",
    "b = 10\n",
    "m = 5\n",
    "z = [m*x+b for x in x]\n",
    "\n",
    "plt.plot(x, y, 'ro')\n",
    "plt.plot(x, z)\n",
    "    #format string: color, marker, linestyle\n",
    "    #colors: rbgkmcyw ; marker: xo+.^vs*<>d, line: -, —, -., :\n",
    "plt.title('Scatter Plot\\nwith fitted line')\n",
    "plt.xlabel('x values')\n",
    "plt.ylabel('y values')\n",
    "plt.show();"
   ]
  },
  {
   "attachments": {},
   "cell_type": "markdown",
   "metadata": {
    "slideshow": {
     "slide_type": "slide"
    }
   },
   "source": [
    "### Dot plots"
   ]
  },
  {
   "cell_type": "code",
   "execution_count": 127,
   "metadata": {
    "slideshow": {
     "slide_type": "slide"
    }
   },
   "outputs": [
    {
     "data": {
      "image/png": "[encoded data removed]",
      "text/plain": [
       "<Figure size 432x162 with 1 Axes>"
      ]
     },
     "metadata": {
      "needs_background": "light"
     },
     "output_type": "display_data"
    },
    {
     "name": "stdout",
     "output_type": "stream",
     "text": [
      "Set of values:  [1, 2, 2, 3, 4, 4, 4, 5, 5, 6, 7]\n"
     ]
    }
   ],
   "source": [
    "data = [1,2,2,3,4,4,4,5,5,6,7]\n",
    "values, counts = np.unique(data, return_counts=True)\n",
    "\n",
    "fig, ax = plt.subplots(figsize=(6, 2.25))\n",
    "for value, count in zip(values, counts):\n",
    "    ax.plot([value]*count, list(range(count)), 'co', ms=10, linestyle='')\n",
    "for spine in ['top', 'right', 'left']:\n",
    "    ax.spines[spine].set_visible(False)\n",
    "ax.yaxis.set_visible(False)\n",
    "#plt.ylabel('Frequency')\n",
    "ax.set_ylim(-1, max(counts))\n",
    "ax.set_xticks(range(min(values), max(values)+1))\n",
    "ax.tick_params(axis='x', length=0, pad=8, labelsize=12)\n",
    "\n",
    "plt.title('Dot Plot')\n",
    "plt.show()\n",
    "print('Set of values: ', data)"
   ]
  },
  {
   "attachments": {},
   "cell_type": "markdown",
   "metadata": {
    "slideshow": {
     "slide_type": "fragment"
    }
   },
   "source": [
    "[StackOverflow dot plot source](https://stackoverflow.com/questions/49703938/how-to-create-a-dot-plot-in-matplotlib-not-a-scatter-plot)"
   ]
  },
  {
   "cell_type": "code",
   "execution_count": 129,
   "metadata": {
    "slideshow": {
     "slide_type": "skip"
    }
   },
   "outputs": [
    {
     "data": {
      "image/png": "[encoded data removed]",
      "text/plain": [
       "<Figure size 432x162 with 1 Axes>"
      ]
     },
     "metadata": {
      "needs_background": "light"
     },
     "output_type": "display_data"
    }
   ],
   "source": [
    "# Create random data\n",
    "rng = np.random.default_rng(125) # random number generator\n",
    "data = rng.integers(0, 13, size=40)\n",
    "values, counts = np.unique(data, return_counts=True)\n",
    "\n",
    "# Draw dot plot with appropriate figure size, marker size and y-axis limits\n",
    "fig, ax = plt.subplots(figsize=(6, 2.25))\n",
    "for value, count in zip(values, counts):\n",
    "    ax.plot([value]*count, list(range(count)), 'co', ms=10, linestyle='')\n",
    "for spine in ['top', 'right', 'left']:\n",
    "    ax.spines[spine].set_visible(False)\n",
    "ax.yaxis.set_visible(False)\n",
    "ax.set_ylim(-1, max(counts))\n",
    "ax.set_xticks(range(min(values), max(values)+1))\n",
    "ax.tick_params(axis='x', length=0, pad=8, labelsize=12)\n",
    "\n",
    "plt.show()"
   ]
  },
  {
   "attachments": {},
   "cell_type": "markdown",
   "metadata": {
    "slideshow": {
     "slide_type": "slide"
    }
   },
   "source": [
    "### Box plots"
   ]
  },
  {
   "cell_type": "code",
   "execution_count": 173,
   "metadata": {
    "slideshow": {
     "slide_type": "fragment"
    }
   },
   "outputs": [
    {
     "data": {
      "image/png": "[encoded data removed]",
      "text/plain": [
       "<Figure size 432x288 with 1 Axes>"
      ]
     },
     "metadata": {
      "needs_background": "light"
     },
     "output_type": "display_data"
    }
   ],
   "source": [
    "plt.boxplot([2,4,5,6,8], vert=False)\n",
    "plt.xlim([1, 10])\n",
    "plt.xlabel('Values')\n",
    "plt.yticks([]) # remove y-axis ticks and labels\n",
    "plt.title('Simple Box Plot');"
   ]
  },
  {
   "attachments": {},
   "cell_type": "markdown",
   "metadata": {
    "slideshow": {
     "slide_type": "slide"
    }
   },
   "source": [
    "### Report card grades"
   ]
  },
  {
   "cell_type": "code",
   "execution_count": null,
   "metadata": {
    "slideshow": {
     "slide_type": "skip"
    }
   },
   "outputs": [],
   "source": [
    "marks = pd.read_excel('../PreCalc2023/07-Bivariate-data/marks-data.xlsx')\n",
    "display(marks.head())\n"
   ]
  },
  {
   "cell_type": "code",
   "execution_count": 174,
   "metadata": {
    "slideshow": {
     "slide_type": "skip"
    }
   },
   "outputs": [
    {
     "data": {
      "text/html": [
       "<div>\n",
       "<style scoped>\n",
       "    .dataframe tbody tr th:only-of-type {\n",
       "        vertical-align: middle;\n",
       "    }\n",
       "\n",
       "    .dataframe tbody tr th {\n",
       "        vertical-align: top;\n",
       "    }\n",
       "\n",
       "    .dataframe thead th {\n",
       "        text-align: right;\n",
       "    }\n",
       "</style>\n",
       "<table border=\"1\" class=\"dataframe\">\n",
       "  <thead>\n",
       "    <tr style=\"text-align: right;\">\n",
       "      <th></th>\n",
       "      <th>count</th>\n",
       "      <th>mean</th>\n",
       "      <th>std</th>\n",
       "      <th>min</th>\n",
       "      <th>25%</th>\n",
       "      <th>50%</th>\n",
       "      <th>75%</th>\n",
       "      <th>max</th>\n",
       "    </tr>\n",
       "  </thead>\n",
       "  <tbody>\n",
       "    <tr>\n",
       "      <th>Mark</th>\n",
       "      <td>29.0</td>\n",
       "      <td>81.448276</td>\n",
       "      <td>9.941206</td>\n",
       "      <td>70.0</td>\n",
       "      <td>75.0</td>\n",
       "      <td>80.0</td>\n",
       "      <td>91.0</td>\n",
       "      <td>97.0</td>\n",
       "    </tr>\n",
       "  </tbody>\n",
       "</table>\n",
       "</div>"
      ],
      "text/plain": [
       "      count       mean       std   min   25%   50%   75%   max\n",
       "Mark   29.0  81.448276  9.941206  70.0  75.0  80.0  91.0  97.0"
      ]
     },
     "execution_count": 174,
     "metadata": {},
     "output_type": "execute_result"
    }
   ],
   "source": [
    "data = marks[(marks['Course']=='Geometry') & (marks['Term']==2) & (marks['Section']==2)][['Mark']]\n",
    "\n",
    "data.describe().T"
   ]
  },
  {
   "cell_type": "code",
   "execution_count": 163,
   "metadata": {
    "slideshow": {
     "slide_type": "fragment"
    }
   },
   "outputs": [
    {
     "data": {
      "text/html": [
       "<style type=\"text/css\">\n",
       "</style>\n",
       "<table id=\"T_3ae69\">\n",
       "  <thead>\n",
       "  </thead>\n",
       "  <tbody>\n",
       "    <tr>\n",
       "      <th id=\"T_3ae69_level0_row0\" class=\"row_heading level0 row0\" >Grade</th>\n",
       "      <td id=\"T_3ae69_row0_col0\" class=\"data row0 col0\" >70</td>\n",
       "      <td id=\"T_3ae69_row0_col1\" class=\"data row0 col1\" >75</td>\n",
       "      <td id=\"T_3ae69_row0_col2\" class=\"data row0 col2\" >80</td>\n",
       "      <td id=\"T_3ae69_row0_col3\" class=\"data row0 col3\" >85</td>\n",
       "      <td id=\"T_3ae69_row0_col4\" class=\"data row0 col4\" >90</td>\n",
       "      <td id=\"T_3ae69_row0_col5\" class=\"data row0 col5\" >91</td>\n",
       "      <td id=\"T_3ae69_row0_col6\" class=\"data row0 col6\" >96</td>\n",
       "      <td id=\"T_3ae69_row0_col7\" class=\"data row0 col7\" >97</td>\n",
       "    </tr>\n",
       "    <tr>\n",
       "      <th id=\"T_3ae69_level0_row1\" class=\"row_heading level0 row1\" >Frequency</th>\n",
       "      <td id=\"T_3ae69_row1_col0\" class=\"data row1 col0\" >7</td>\n",
       "      <td id=\"T_3ae69_row1_col1\" class=\"data row1 col1\" >7</td>\n",
       "      <td id=\"T_3ae69_row1_col2\" class=\"data row1 col2\" >3</td>\n",
       "      <td id=\"T_3ae69_row1_col3\" class=\"data row1 col3\" >1</td>\n",
       "      <td id=\"T_3ae69_row1_col4\" class=\"data row1 col4\" >2</td>\n",
       "      <td id=\"T_3ae69_row1_col5\" class=\"data row1 col5\" >5</td>\n",
       "      <td id=\"T_3ae69_row1_col6\" class=\"data row1 col6\" >1</td>\n",
       "      <td id=\"T_3ae69_row1_col7\" class=\"data row1 col7\" >3</td>\n",
       "    </tr>\n",
       "  </tbody>\n",
       "</table>\n"
      ],
      "text/plain": [
       "<pandas.io.formats.style.Styler at 0x7fb207460fa0>"
      ]
     },
     "execution_count": 163,
     "metadata": {},
     "output_type": "execute_result"
    }
   ],
   "source": [
    "\n",
    "values, counts = np.unique(data, return_counts=True)\n",
    "data_frequency = pd.DataFrame({'Grade': values, 'Frequency': counts})\n",
    "data_frequency.T.style.hide(axis=1)\n"
   ]
  },
  {
   "cell_type": "code",
   "execution_count": 175,
   "metadata": {
    "slideshow": {
     "slide_type": "fragment"
    }
   },
   "outputs": [
    {
     "data": {
      "image/png": "[encoded data removed]",
      "text/plain": [
       "<Figure size 576x216 with 1 Axes>"
      ]
     },
     "metadata": {
      "needs_background": "light"
     },
     "output_type": "display_data"
    }
   ],
   "source": [
    "\n",
    "fig, ax = plt.subplots(figsize=(8, 3))\n",
    "for value, count in zip(values, counts):\n",
    "    ax.plot([value]*count, list(range(count)), 'co', ms=10, linestyle='')\n",
    "for spine in ['top', 'right', 'left']:\n",
    "    ax.spines[spine].set_visible(False)\n",
    "ax.yaxis.set_visible(False)\n",
    "#plt.ylabel('Frequency')\n",
    "ax.set_ylim(-1, max(counts))\n",
    "ax.set_xticks([55, 60, 65, 70, 75, 80, 85, 90, 95, 100])\n",
    "#ax.set_xticks(range(min(values), max(values)+1))\n",
    "ax.tick_params(axis='x', length=0, pad=8, labelsize=12)\n",
    "\n",
    "plt.title('Grades')\n",
    "plt.show()"
   ]
  },
  {
   "cell_type": "code",
   "execution_count": 172,
   "metadata": {
    "slideshow": {
     "slide_type": "fragment"
    }
   },
   "outputs": [
    {
     "data": {
      "image/png": "[encoded data removed]",
      "text/plain": [
       "<Figure size 576x144 with 1 Axes>"
      ]
     },
     "metadata": {
      "needs_background": "light"
     },
     "output_type": "display_data"
    }
   ],
   "source": [
    "data.boxplot(column='Mark', vert=False, figsize=(8, 2), grid=False)\n",
    "plt.xlim([55, 100])\n",
    "for spine in ['top', 'right', 'left']:\n",
    "    ax.spines[spine].set_visible(False)\n",
    "plt.yticks([]);"
   ]
  },
  {
   "cell_type": "code",
   "execution_count": 206,
   "metadata": {
    "slideshow": {
     "slide_type": "slide"
    }
   },
   "outputs": [
    {
     "data": {
      "image/png": "[encoded data removed]",
      "text/plain": [
       "<Figure size 576x360 with 1 Axes>"
      ]
     },
     "metadata": {
      "needs_background": "light"
     },
     "output_type": "display_data"
    }
   ],
   "source": [
    "\n",
    "marks[(marks['Term']==2)].boxplot(column='Mark', by=['Course', 'Section'], vert=False, figsize=(8, 5))\n",
    "plt.yticks(range(1,7), [10.1, 10.2, 10.3, 11.1, 11.2, 11.3])\n",
    "plt.suptitle('')\n",
    "plt.title('Second term math grades by cohort')\n",
    "plt.xlabel('Mark');\n"
   ]
  },
  {
   "cell_type": "code",
   "execution_count": 203,
   "metadata": {
    "slideshow": {
     "slide_type": "fragment"
    }
   },
   "outputs": [
    {
     "data": {
      "image/png": "[encoded data removed]",
      "text/plain": [
       "<Figure size 576x108 with 1 Axes>"
      ]
     },
     "metadata": {
      "needs_background": "light"
     },
     "output_type": "display_data"
    }
   ],
   "source": [
    "\n",
    "marks[(marks['Term']==2)].boxplot(column='Mark', vert=False, figsize=(8, 1.5), grid=False)\n",
    "plt.yticks([1], ['total'])\n",
    "plt.suptitle('')\n",
    "plt.title('Second term math grades overall')\n",
    "plt.xlabel('Mark');\n"
   ]
  },
  {
   "cell_type": "code",
   "execution_count": 255,
   "metadata": {},
   "outputs": [
    {
     "name": "stdout",
     "output_type": "stream",
     "text": [
      "Average grade\n"
     ]
    },
    {
     "data": {
      "text/html": [
       "<div>\n",
       "<style scoped>\n",
       "    .dataframe tbody tr th:only-of-type {\n",
       "        vertical-align: middle;\n",
       "    }\n",
       "\n",
       "    .dataframe tbody tr th {\n",
       "        vertical-align: top;\n",
       "    }\n",
       "\n",
       "    .dataframe thead th {\n",
       "        text-align: right;\n",
       "    }\n",
       "</style>\n",
       "<table border=\"1\" class=\"dataframe\">\n",
       "  <thead>\n",
       "    <tr style=\"text-align: right;\">\n",
       "      <th></th>\n",
       "      <th>Term</th>\n",
       "      <th>1</th>\n",
       "      <th>2</th>\n",
       "    </tr>\n",
       "    <tr>\n",
       "      <th>Course</th>\n",
       "      <th>Section</th>\n",
       "      <th></th>\n",
       "      <th></th>\n",
       "    </tr>\n",
       "  </thead>\n",
       "  <tbody>\n",
       "    <tr>\n",
       "      <th rowspan=\"3\" valign=\"top\">Geometry</th>\n",
       "      <th>1</th>\n",
       "      <td>82.0</td>\n",
       "      <td>81.0</td>\n",
       "    </tr>\n",
       "    <tr>\n",
       "      <th>2</th>\n",
       "      <td>81.0</td>\n",
       "      <td>81.0</td>\n",
       "    </tr>\n",
       "    <tr>\n",
       "      <th>3</th>\n",
       "      <td>75.0</td>\n",
       "      <td>72.0</td>\n",
       "    </tr>\n",
       "    <tr>\n",
       "      <th rowspan=\"3\" valign=\"top\">PreCalc</th>\n",
       "      <th>1</th>\n",
       "      <td>75.0</td>\n",
       "      <td>76.0</td>\n",
       "    </tr>\n",
       "    <tr>\n",
       "      <th>2</th>\n",
       "      <td>82.0</td>\n",
       "      <td>81.0</td>\n",
       "    </tr>\n",
       "    <tr>\n",
       "      <th>3</th>\n",
       "      <td>76.0</td>\n",
       "      <td>74.0</td>\n",
       "    </tr>\n",
       "  </tbody>\n",
       "</table>\n",
       "</div>"
      ],
      "text/plain": [
       "Term                 1     2\n",
       "Course   Section            \n",
       "Geometry 1        82.0  81.0\n",
       "         2        81.0  81.0\n",
       "         3        75.0  72.0\n",
       "PreCalc  1        75.0  76.0\n",
       "         2        82.0  81.0\n",
       "         3        76.0  74.0"
      ]
     },
     "execution_count": 255,
     "metadata": {},
     "output_type": "execute_result"
    }
   ],
   "source": [
    "print('Average grade')\n",
    "marks.groupby(['Course', 'Term', 'Section']).agg('mean')[['Mark']].round(0).pivot_table(index=['Course', 'Section'], columns=['Term'], values='Mark')"
   ]
  },
  {
   "attachments": {},
   "cell_type": "markdown",
   "metadata": {
    "slideshow": {
     "slide_type": "slide"
    }
   },
   "source": [
    "### Bar charts"
   ]
  },
  {
   "cell_type": "code",
   "execution_count": 26,
   "metadata": {
    "slideshow": {
     "slide_type": "skip"
    }
   },
   "outputs": [
    {
     "data": {
      "image/png": "[encoded data removed]",
      "text/plain": [
       "<Figure size 432x288 with 1 Axes>"
      ]
     },
     "metadata": {
      "needs_background": "light"
     },
     "output_type": "display_data"
    }
   ],
   "source": [
    "plt.bar(range(len(data)),data)\n",
    "plt.show()"
   ]
  },
  {
   "cell_type": "code",
   "execution_count": 57,
   "metadata": {
    "slideshow": {
     "slide_type": "slide"
    }
   },
   "outputs": [
    {
     "data": {
      "image/png": "[encoded data removed]",
      "text/plain": [
       "<Figure size 432x288 with 1 Axes>"
      ]
     },
     "metadata": {
      "needs_background": "light"
     },
     "output_type": "display_data"
    }
   ],
   "source": [
    "nyc_boroughs = pd.DataFrame([('Bronx', 1472654),('Brooklyn', 2736074),('Manhattan', 1694251),('Queens', 2405464),('Staten Island', 495747)]) #2020 census\n",
    "nyc_boroughs.columns = ['Borough', 'Population']\n",
    "\n",
    "plt.bar(nyc_boroughs['Borough'],nyc_boroughs['Population'])\n",
    "#plt.xlabel('Borough')\n",
    "plt.ylabel('Population (millions)')\n",
    "plt.title('NYC Population by Borough\\n2020 Census')\n",
    "#plt.suptitle('2020 Census')\n",
    "plt.show();"
   ]
  },
  {
   "cell_type": "code",
   "execution_count": 56,
   "metadata": {
    "slideshow": {
     "slide_type": "fragment"
    }
   },
   "outputs": [
    {
     "data": {
      "text/html": [
       "<div>\n",
       "<style scoped>\n",
       "    .dataframe tbody tr th:only-of-type {\n",
       "        vertical-align: middle;\n",
       "    }\n",
       "\n",
       "    .dataframe tbody tr th {\n",
       "        vertical-align: top;\n",
       "    }\n",
       "\n",
       "    .dataframe thead th {\n",
       "        text-align: right;\n",
       "    }\n",
       "</style>\n",
       "<table border=\"1\" class=\"dataframe\">\n",
       "  <thead>\n",
       "    <tr style=\"text-align: right;\">\n",
       "      <th></th>\n",
       "      <th>Borough</th>\n",
       "      <th>Population</th>\n",
       "    </tr>\n",
       "  </thead>\n",
       "  <tbody>\n",
       "    <tr>\n",
       "      <th>0</th>\n",
       "      <td>Bronx</td>\n",
       "      <td>1472654</td>\n",
       "    </tr>\n",
       "    <tr>\n",
       "      <th>1</th>\n",
       "      <td>Brooklyn</td>\n",
       "      <td>2736074</td>\n",
       "    </tr>\n",
       "    <tr>\n",
       "      <th>2</th>\n",
       "      <td>Manhattan</td>\n",
       "      <td>1694251</td>\n",
       "    </tr>\n",
       "    <tr>\n",
       "      <th>3</th>\n",
       "      <td>Queens</td>\n",
       "      <td>2405464</td>\n",
       "    </tr>\n",
       "    <tr>\n",
       "      <th>4</th>\n",
       "      <td>Staten Island</td>\n",
       "      <td>495747</td>\n",
       "    </tr>\n",
       "  </tbody>\n",
       "</table>\n",
       "</div>"
      ],
      "text/plain": [
       "         Borough  Population\n",
       "0          Bronx     1472654\n",
       "1       Brooklyn     2736074\n",
       "2      Manhattan     1694251\n",
       "3         Queens     2405464\n",
       "4  Staten Island      495747"
      ]
     },
     "metadata": {},
     "output_type": "display_data"
    },
    {
     "name": "stdout",
     "output_type": "stream",
     "text": [
      "Total NYC Population:  8804190\n"
     ]
    }
   ],
   "source": [
    "display(nyc_boroughs)\n",
    "print('Total NYC Population: ', nyc_boroughs['Population'].sum())"
   ]
  },
  {
   "attachments": {},
   "cell_type": "markdown",
   "metadata": {
    "slideshow": {
     "slide_type": "slide"
    }
   },
   "source": [
    "### Bivariate data"
   ]
  },
  {
   "attachments": {},
   "cell_type": "markdown",
   "metadata": {},
   "source": [
    "The term bivariate analysis refers to the analysis of two variables.\n",
    "\n",
    "There are three common ways to understand the relationship between two variables:\n",
    "\n",
    "1. Scatterplots\n",
    "2. Correlation Coefficients\n",
    "3. Simple Linear Regression\n",
    "\n",
    "[source: Statology](https://www.statology.org/bivariate-analysis-in-python/)\n"
   ]
  },
  {
   "attachments": {},
   "cell_type": "markdown",
   "metadata": {
    "slideshow": {
     "slide_type": "slide"
    }
   },
   "source": [
    "\n",
    "Example: The following data represents the\n",
    "1. Hours spent studying\n",
    "2. Exam score received by 20 different students"
   ]
  },
  {
   "cell_type": "code",
   "execution_count": 213,
   "metadata": {},
   "outputs": [
    {
     "data": {
      "text/html": [
       "<div>\n",
       "<style scoped>\n",
       "    .dataframe tbody tr th:only-of-type {\n",
       "        vertical-align: middle;\n",
       "    }\n",
       "\n",
       "    .dataframe tbody tr th {\n",
       "        vertical-align: top;\n",
       "    }\n",
       "\n",
       "    .dataframe thead th {\n",
       "        text-align: right;\n",
       "    }\n",
       "</style>\n",
       "<table border=\"1\" class=\"dataframe\">\n",
       "  <thead>\n",
       "    <tr style=\"text-align: right;\">\n",
       "      <th></th>\n",
       "      <th>0</th>\n",
       "      <th>1</th>\n",
       "      <th>2</th>\n",
       "      <th>3</th>\n",
       "      <th>4</th>\n",
       "      <th>5</th>\n",
       "      <th>6</th>\n",
       "      <th>7</th>\n",
       "      <th>8</th>\n",
       "      <th>9</th>\n",
       "      <th>10</th>\n",
       "      <th>11</th>\n",
       "      <th>12</th>\n",
       "      <th>13</th>\n",
       "      <th>14</th>\n",
       "      <th>15</th>\n",
       "      <th>16</th>\n",
       "      <th>17</th>\n",
       "      <th>18</th>\n",
       "      <th>19</th>\n",
       "    </tr>\n",
       "  </thead>\n",
       "  <tbody>\n",
       "    <tr>\n",
       "      <th>hours</th>\n",
       "      <td>1</td>\n",
       "      <td>1</td>\n",
       "      <td>1</td>\n",
       "      <td>2</td>\n",
       "      <td>2</td>\n",
       "      <td>2</td>\n",
       "      <td>3</td>\n",
       "      <td>3</td>\n",
       "      <td>3</td>\n",
       "      <td>3</td>\n",
       "      <td>3</td>\n",
       "      <td>4</td>\n",
       "      <td>4</td>\n",
       "      <td>5</td>\n",
       "      <td>5</td>\n",
       "      <td>6</td>\n",
       "      <td>6</td>\n",
       "      <td>6</td>\n",
       "      <td>7</td>\n",
       "      <td>8</td>\n",
       "    </tr>\n",
       "    <tr>\n",
       "      <th>score</th>\n",
       "      <td>75</td>\n",
       "      <td>66</td>\n",
       "      <td>68</td>\n",
       "      <td>74</td>\n",
       "      <td>78</td>\n",
       "      <td>72</td>\n",
       "      <td>85</td>\n",
       "      <td>82</td>\n",
       "      <td>90</td>\n",
       "      <td>82</td>\n",
       "      <td>80</td>\n",
       "      <td>88</td>\n",
       "      <td>85</td>\n",
       "      <td>90</td>\n",
       "      <td>92</td>\n",
       "      <td>94</td>\n",
       "      <td>94</td>\n",
       "      <td>88</td>\n",
       "      <td>91</td>\n",
       "      <td>96</td>\n",
       "    </tr>\n",
       "  </tbody>\n",
       "</table>\n",
       "</div>"
      ],
      "text/plain": [
       "       0   1   2   3   4   5   6   7   8   9   10  11  12  13  14  15  16  17  \\\n",
       "hours   1   1   1   2   2   2   3   3   3   3   3   4   4   5   5   6   6   6   \n",
       "score  75  66  68  74  78  72  85  82  90  82  80  88  85  90  92  94  94  88   \n",
       "\n",
       "       18  19  \n",
       "hours   7   8  \n",
       "score  91  96  "
      ]
     },
     "execution_count": 213,
     "metadata": {},
     "output_type": "execute_result"
    }
   ],
   "source": [
    "df = pd.DataFrame({'hours': [1, 1, 1, 2, 2, 2, 3, 3, 3, 3,\n",
    "                             3, 4, 4, 5, 5, 6, 6, 6, 7, 8],\n",
    "                   'score': [75, 66, 68, 74, 78, 72, 85, 82, 90, 82,\n",
    "                             80, 88, 85, 90, 92, 94, 94, 88, 91, 96]})\n",
    "df.T #.style.hide(axis=1)"
   ]
  },
  {
   "cell_type": "code",
   "execution_count": 237,
   "metadata": {
    "slideshow": {
     "slide_type": "fragment"
    }
   },
   "outputs": [
    {
     "data": {
      "image/png": "[encoded data removed]",
      "text/plain": [
       "<Figure size 432x288 with 1 Axes>"
      ]
     },
     "metadata": {
      "needs_background": "light"
     },
     "output_type": "display_data"
    }
   ],
   "source": [
    "plt.scatter(df.hours, df.score)\n",
    "m = 3.85\n",
    "b = 69\n",
    "#plt.plot(range(0, 9), [m*x+b for x in range(0, 9)])\n",
    "plt.title('Scatter plot')\n",
    "plt.xlabel('Hours Studied')\n",
    "plt.ylabel('Exam Score');"
   ]
  },
  {
   "cell_type": "code",
   "execution_count": 238,
   "metadata": {
    "slideshow": {
     "slide_type": "slide"
    }
   },
   "outputs": [
    {
     "data": {
      "text/html": [
       "<style type=\"text/css\">\n",
       "</style>\n",
       "<table id=\"T_82900\">\n",
       "  <thead>\n",
       "  </thead>\n",
       "  <tbody>\n",
       "    <tr>\n",
       "      <th id=\"T_82900_level0_row0\" class=\"row_heading level0 row0\" >hours</th>\n",
       "      <td id=\"T_82900_row0_col0\" class=\"data row0 col0\" >1</td>\n",
       "      <td id=\"T_82900_row0_col1\" class=\"data row0 col1\" >1</td>\n",
       "      <td id=\"T_82900_row0_col2\" class=\"data row0 col2\" >1</td>\n",
       "      <td id=\"T_82900_row0_col3\" class=\"data row0 col3\" >2</td>\n",
       "      <td id=\"T_82900_row0_col4\" class=\"data row0 col4\" >2</td>\n",
       "      <td id=\"T_82900_row0_col5\" class=\"data row0 col5\" >2</td>\n",
       "      <td id=\"T_82900_row0_col6\" class=\"data row0 col6\" >3</td>\n",
       "      <td id=\"T_82900_row0_col7\" class=\"data row0 col7\" >3</td>\n",
       "      <td id=\"T_82900_row0_col8\" class=\"data row0 col8\" >3</td>\n",
       "      <td id=\"T_82900_row0_col9\" class=\"data row0 col9\" >3</td>\n",
       "      <td id=\"T_82900_row0_col10\" class=\"data row0 col10\" >3</td>\n",
       "      <td id=\"T_82900_row0_col11\" class=\"data row0 col11\" >4</td>\n",
       "      <td id=\"T_82900_row0_col12\" class=\"data row0 col12\" >4</td>\n",
       "      <td id=\"T_82900_row0_col13\" class=\"data row0 col13\" >5</td>\n",
       "      <td id=\"T_82900_row0_col14\" class=\"data row0 col14\" >5</td>\n",
       "      <td id=\"T_82900_row0_col15\" class=\"data row0 col15\" >6</td>\n",
       "      <td id=\"T_82900_row0_col16\" class=\"data row0 col16\" >6</td>\n",
       "      <td id=\"T_82900_row0_col17\" class=\"data row0 col17\" >6</td>\n",
       "      <td id=\"T_82900_row0_col18\" class=\"data row0 col18\" >7</td>\n",
       "      <td id=\"T_82900_row0_col19\" class=\"data row0 col19\" >8</td>\n",
       "    </tr>\n",
       "    <tr>\n",
       "      <th id=\"T_82900_level0_row1\" class=\"row_heading level0 row1\" >score</th>\n",
       "      <td id=\"T_82900_row1_col0\" class=\"data row1 col0\" >75</td>\n",
       "      <td id=\"T_82900_row1_col1\" class=\"data row1 col1\" >66</td>\n",
       "      <td id=\"T_82900_row1_col2\" class=\"data row1 col2\" >68</td>\n",
       "      <td id=\"T_82900_row1_col3\" class=\"data row1 col3\" >74</td>\n",
       "      <td id=\"T_82900_row1_col4\" class=\"data row1 col4\" >78</td>\n",
       "      <td id=\"T_82900_row1_col5\" class=\"data row1 col5\" >72</td>\n",
       "      <td id=\"T_82900_row1_col6\" class=\"data row1 col6\" >85</td>\n",
       "      <td id=\"T_82900_row1_col7\" class=\"data row1 col7\" >82</td>\n",
       "      <td id=\"T_82900_row1_col8\" class=\"data row1 col8\" >90</td>\n",
       "      <td id=\"T_82900_row1_col9\" class=\"data row1 col9\" >82</td>\n",
       "      <td id=\"T_82900_row1_col10\" class=\"data row1 col10\" >80</td>\n",
       "      <td id=\"T_82900_row1_col11\" class=\"data row1 col11\" >88</td>\n",
       "      <td id=\"T_82900_row1_col12\" class=\"data row1 col12\" >85</td>\n",
       "      <td id=\"T_82900_row1_col13\" class=\"data row1 col13\" >90</td>\n",
       "      <td id=\"T_82900_row1_col14\" class=\"data row1 col14\" >92</td>\n",
       "      <td id=\"T_82900_row1_col15\" class=\"data row1 col15\" >94</td>\n",
       "      <td id=\"T_82900_row1_col16\" class=\"data row1 col16\" >94</td>\n",
       "      <td id=\"T_82900_row1_col17\" class=\"data row1 col17\" >88</td>\n",
       "      <td id=\"T_82900_row1_col18\" class=\"data row1 col18\" >91</td>\n",
       "      <td id=\"T_82900_row1_col19\" class=\"data row1 col19\" >96</td>\n",
       "    </tr>\n",
       "  </tbody>\n",
       "</table>\n"
      ],
      "text/plain": [
       "<pandas.io.formats.style.Styler at 0x7fb205bac2e0>"
      ]
     },
     "metadata": {},
     "output_type": "display_data"
    },
    {
     "data": {
      "image/png": "[encoded data removed]",
      "text/plain": [
       "<Figure size 432x288 with 1 Axes>"
      ]
     },
     "metadata": {
      "needs_background": "light"
     },
     "output_type": "display_data"
    }
   ],
   "source": [
    "display(df.T.style.hide(axis=1))\n",
    "\n",
    "plt.scatter(df.hours, df.score)\n",
    "m = 3.85\n",
    "b = 69\n",
    "plt.plot(range(0, 9), [m*x+b for x in range(0, 9)])\n",
    "plt.title('Scatter plot with line of best fit')\n",
    "plt.xlabel('Hours Studied')\n",
    "plt.ylabel('Exam Score');"
   ]
  },
  {
   "attachments": {},
   "cell_type": "markdown",
   "metadata": {},
   "source": [
    "Hours Studied is the *independent* variable ($x$-axis) and Exam Score the *dependent* variable ($y$-axis).\n",
    "\n",
    "There is a positive relationship between the variables: As hours increases, the score tends to increase. \n",
    "\n",
    "A correlation $|r| \\geq 0.75$ is considered *strong*"
   ]
  },
  {
   "cell_type": "code",
   "execution_count": 228,
   "metadata": {},
   "outputs": [
    {
     "name": "stdout",
     "output_type": "stream",
     "text": [
      "Pearson correlation coefficient =  0.891\n",
      "Fitted line equation: y =  3.85 x +  69\n"
     ]
    }
   ],
   "source": [
    "print('Pearson correlation coefficient = ', df.corr().iloc[0,1].round(3))\n",
    "print('Fitted line equation: y = ', round(m, 2), 'x + ', round(b, 2))"
   ]
  },
  {
   "cell_type": "code",
   "execution_count": 241,
   "metadata": {},
   "outputs": [
    {
     "data": {
      "text/plain": [
       "Index(['hours', 'score'], dtype='object')"
      ]
     },
     "execution_count": 241,
     "metadata": {},
     "output_type": "execute_result"
    }
   ],
   "source": [
    "df.columns"
   ]
  },
  {
   "attachments": {},
   "cell_type": "markdown",
   "metadata": {
    "slideshow": {
     "slide_type": "slide"
    }
   },
   "source": [
    "### Linear regression with Seaborn and SciKit"
   ]
  },
  {
   "cell_type": "code",
   "execution_count": 256,
   "metadata": {},
   "outputs": [
    {
     "data": {
      "image/png": "[encoded data removed]",
      "text/plain": [
       "<Figure size 432x288 with 1 Axes>"
      ]
     },
     "metadata": {
      "needs_background": "light"
     },
     "output_type": "display_data"
    }
   ],
   "source": [
    "import seaborn as sns\n",
    "sns.regplot(x='hours', y='score', data=df, ci=None);\n",
    "#plt.ylim(0,)"
   ]
  },
  {
   "cell_type": "code",
   "execution_count": 260,
   "metadata": {},
   "outputs": [
    {
     "name": "stdout",
     "output_type": "stream",
     "text": [
      "Intercept:  [69.0733945]\n",
      "Slope:  [[3.8470948]]\n",
      "Pearson correlation coefficient:  0.891\n"
     ]
    }
   ],
   "source": [
    "from sklearn.linear_model import LinearRegression\n",
    "\n",
    "lin_reg = LinearRegression()\n",
    "lin_reg.fit(df[[\"hours\"]], df[['score']])\n",
    "\n",
    "print('Intercept: ', lin_reg.intercept_)\n",
    "print('Slope: ', lin_reg.coef_)\n",
    "print('Pearson correlation coefficient: ', df.corr().iloc[0,1].round(3))"
   ]
  },
  {
   "cell_type": "code",
   "execution_count": null,
   "metadata": {
    "slideshow": {
     "slide_type": "skip"
    }
   },
   "outputs": [],
   "source": [
    "x = range(1, 11)\n",
    "y = [10, 20, 15, 35, 40, 30, 50, 55, 75, 50]\n",
    "\n",
    "b = 10\n",
    "m = 5\n",
    "z = [m*x+b for x in x]\n",
    "\n",
    "plt.plot(x, y, 'ro')\n",
    "plt.plot(x, z)\n",
    "    #format string: color, marker, linestyle\n",
    "    #colors: rbgkmcyw ; marker: xo+.^vs*<>d, line: -, —, -., :\n",
    "plt.title('Scatter Plot\\nwith fitted line')\n",
    "plt.xlabel('x values')\n",
    "plt.ylabel('y values')\n",
    "plt.show();"
   ]
  }
 ],
 "metadata": {
  "kernelspec": {
   "display_name": "base",
   "language": "python",
   "name": "python3"
  },
  "language_info": {
   "codemirror_mode": {
    "name": "ipython",
    "version": 3
   },
   "file_extension": ".py",
   "mimetype": "text/x-python",
   "name": "python",
   "nbconvert_exporter": "python",
   "pygments_lexer": "ipython3",
   "version": "3.9.12"
  },
  "orig_nbformat": 4,
  "vscode": {
   "interpreter": {
    "hash": "56941cacf15e8b05765996006082865469347c2b4cdce983108d1335de8b4245"
   }
  }
 },
 "nbformat": 4,
 "nbformat_minor": 2
}
